{
 "cells": [
  {
   "cell_type": "code",
   "execution_count": 1,
   "id": "b9865569",
   "metadata": {
    "_cell_guid": "b1076dfc-b9ad-4769-8c92-a6c4dae69d19",
    "_uuid": "8f2839f25d086af736a60e9eeb907d3b93b6e0e5",
    "execution": {
     "iopub.execute_input": "2022-03-13T12:16:56.348362Z",
     "iopub.status.busy": "2022-03-13T12:16:56.347246Z",
     "iopub.status.idle": "2022-03-13T12:16:57.429818Z",
     "shell.execute_reply": "2022-03-13T12:16:57.430480Z",
     "shell.execute_reply.started": "2022-03-13T11:15:46.374983Z"
    },
    "papermill": {
     "duration": 1.120613,
     "end_time": "2022-03-13T12:16:57.430925",
     "exception": false,
     "start_time": "2022-03-13T12:16:56.310312",
     "status": "completed"
    },
    "tags": []
   },
   "outputs": [
    {
     "name": "stdout",
     "output_type": "stream",
     "text": [
      "/kaggle/input/stumbleupon/test.tsv\n",
      "/kaggle/input/stumbleupon/train.tsv\n",
      "/kaggle/input/stumbleupon/sampleSubmission.csv\n",
      "/kaggle/input/stumbleupon/raw_content.zip\n"
     ]
    }
   ],
   "source": [
    "# This Python 3 environment comes with many helpful analytics libraries installed\n",
    "# It is defined by the kaggle/python Docker image: https://github.com/kaggle/docker-python\n",
    "# For example, here's several helpful packages to load\n",
    "\n",
    "import numpy as np # linear algebra\n",
    "import pandas as pd # data processing, CSV file I/O (e.g. pd.read_csv)\n",
    "import seaborn as sns\n",
    "import matplotlib.pyplot as plt\n",
    "# Input data files are available in the read-only \"../input/\" directory\n",
    "# For example, running this (by clicking run or pressing Shift+Enter) will list all files under the input directory\n",
    "\n",
    "import os\n",
    "for dirname, _, filenames in os.walk('/kaggle/input'):\n",
    "    for filename in filenames:\n",
    "        print(os.path.join(dirname, filename))\n",
    "\n",
    "# You can write up to 20GB to the current directory (/kaggle/working/) that gets preserved as output when you create a version using \"Save & Run All\" \n",
    "# You can also write temporary files to /kaggle/temp/, but they won't be saved outside of the current session"
   ]
  },
  {
   "cell_type": "code",
   "execution_count": 2,
   "id": "865c7ed3",
   "metadata": {
    "execution": {
     "iopub.execute_input": "2022-03-13T12:16:57.499372Z",
     "iopub.status.busy": "2022-03-13T12:16:57.498436Z",
     "iopub.status.idle": "2022-03-13T12:16:58.031300Z",
     "shell.execute_reply": "2022-03-13T12:16:58.031786Z",
     "shell.execute_reply.started": "2022-03-13T11:15:46.401502Z"
    },
    "papermill": {
     "duration": 0.568262,
     "end_time": "2022-03-13T12:16:58.031954",
     "exception": false,
     "start_time": "2022-03-13T12:16:57.463692",
     "status": "completed"
    },
    "tags": []
   },
   "outputs": [
    {
     "data": {
      "text/html": [
       "<div>\n",
       "<style scoped>\n",
       "    .dataframe tbody tr th:only-of-type {\n",
       "        vertical-align: middle;\n",
       "    }\n",
       "\n",
       "    .dataframe tbody tr th {\n",
       "        vertical-align: top;\n",
       "    }\n",
       "\n",
       "    .dataframe thead th {\n",
       "        text-align: right;\n",
       "    }\n",
       "</style>\n",
       "<table border=\"1\" class=\"dataframe\">\n",
       "  <thead>\n",
       "    <tr style=\"text-align: right;\">\n",
       "      <th></th>\n",
       "      <th>url</th>\n",
       "      <th>urlid</th>\n",
       "      <th>boilerplate</th>\n",
       "      <th>alchemy_category</th>\n",
       "      <th>alchemy_category_score</th>\n",
       "      <th>avglinksize</th>\n",
       "      <th>commonlinkratio_1</th>\n",
       "      <th>commonlinkratio_2</th>\n",
       "      <th>commonlinkratio_3</th>\n",
       "      <th>commonlinkratio_4</th>\n",
       "      <th>...</th>\n",
       "      <th>is_news</th>\n",
       "      <th>lengthyLinkDomain</th>\n",
       "      <th>linkwordscore</th>\n",
       "      <th>news_front_page</th>\n",
       "      <th>non_markup_alphanum_characters</th>\n",
       "      <th>numberOfLinks</th>\n",
       "      <th>numwords_in_url</th>\n",
       "      <th>parametrizedLinkRatio</th>\n",
       "      <th>spelling_errors_ratio</th>\n",
       "      <th>label</th>\n",
       "    </tr>\n",
       "  </thead>\n",
       "  <tbody>\n",
       "    <tr>\n",
       "      <th>0</th>\n",
       "      <td>http://www.bloomberg.com/news/2010-12-23/ibm-p...</td>\n",
       "      <td>4042</td>\n",
       "      <td>{\"title\":\"IBM Sees Holographic Calls Air Breat...</td>\n",
       "      <td>business</td>\n",
       "      <td>0.789131</td>\n",
       "      <td>2.055556</td>\n",
       "      <td>0.676471</td>\n",
       "      <td>0.205882</td>\n",
       "      <td>0.047059</td>\n",
       "      <td>0.023529</td>\n",
       "      <td>...</td>\n",
       "      <td>1</td>\n",
       "      <td>1</td>\n",
       "      <td>24</td>\n",
       "      <td>0</td>\n",
       "      <td>5424</td>\n",
       "      <td>170</td>\n",
       "      <td>8</td>\n",
       "      <td>0.152941</td>\n",
       "      <td>0.079130</td>\n",
       "      <td>0</td>\n",
       "    </tr>\n",
       "    <tr>\n",
       "      <th>1</th>\n",
       "      <td>http://www.popsci.com/technology/article/2012-...</td>\n",
       "      <td>8471</td>\n",
       "      <td>{\"title\":\"The Fully Electronic Futuristic Star...</td>\n",
       "      <td>recreation</td>\n",
       "      <td>0.574147</td>\n",
       "      <td>3.677966</td>\n",
       "      <td>0.508021</td>\n",
       "      <td>0.288770</td>\n",
       "      <td>0.213904</td>\n",
       "      <td>0.144385</td>\n",
       "      <td>...</td>\n",
       "      <td>1</td>\n",
       "      <td>1</td>\n",
       "      <td>40</td>\n",
       "      <td>0</td>\n",
       "      <td>4973</td>\n",
       "      <td>187</td>\n",
       "      <td>9</td>\n",
       "      <td>0.181818</td>\n",
       "      <td>0.125448</td>\n",
       "      <td>1</td>\n",
       "    </tr>\n",
       "    <tr>\n",
       "      <th>2</th>\n",
       "      <td>http://www.menshealth.com/health/flu-fighting-...</td>\n",
       "      <td>1164</td>\n",
       "      <td>{\"title\":\"Fruits that Fight the Flu fruits tha...</td>\n",
       "      <td>health</td>\n",
       "      <td>0.996526</td>\n",
       "      <td>2.382883</td>\n",
       "      <td>0.562016</td>\n",
       "      <td>0.321705</td>\n",
       "      <td>0.120155</td>\n",
       "      <td>0.042636</td>\n",
       "      <td>...</td>\n",
       "      <td>1</td>\n",
       "      <td>1</td>\n",
       "      <td>55</td>\n",
       "      <td>0</td>\n",
       "      <td>2240</td>\n",
       "      <td>258</td>\n",
       "      <td>11</td>\n",
       "      <td>0.166667</td>\n",
       "      <td>0.057613</td>\n",
       "      <td>1</td>\n",
       "    </tr>\n",
       "    <tr>\n",
       "      <th>3</th>\n",
       "      <td>http://www.dumblittleman.com/2007/12/10-foolpr...</td>\n",
       "      <td>6684</td>\n",
       "      <td>{\"title\":\"10 Foolproof Tips for Better Sleep \"...</td>\n",
       "      <td>health</td>\n",
       "      <td>0.801248</td>\n",
       "      <td>1.543103</td>\n",
       "      <td>0.400000</td>\n",
       "      <td>0.100000</td>\n",
       "      <td>0.016667</td>\n",
       "      <td>0.000000</td>\n",
       "      <td>...</td>\n",
       "      <td>1</td>\n",
       "      <td>0</td>\n",
       "      <td>24</td>\n",
       "      <td>0</td>\n",
       "      <td>2737</td>\n",
       "      <td>120</td>\n",
       "      <td>5</td>\n",
       "      <td>0.041667</td>\n",
       "      <td>0.100858</td>\n",
       "      <td>1</td>\n",
       "    </tr>\n",
       "    <tr>\n",
       "      <th>4</th>\n",
       "      <td>http://bleacherreport.com/articles/1205138-the...</td>\n",
       "      <td>9006</td>\n",
       "      <td>{\"title\":\"The 50 Coolest Jerseys You Didn t Kn...</td>\n",
       "      <td>sports</td>\n",
       "      <td>0.719157</td>\n",
       "      <td>2.676471</td>\n",
       "      <td>0.500000</td>\n",
       "      <td>0.222222</td>\n",
       "      <td>0.123457</td>\n",
       "      <td>0.043210</td>\n",
       "      <td>...</td>\n",
       "      <td>1</td>\n",
       "      <td>1</td>\n",
       "      <td>14</td>\n",
       "      <td>0</td>\n",
       "      <td>12032</td>\n",
       "      <td>162</td>\n",
       "      <td>10</td>\n",
       "      <td>0.098765</td>\n",
       "      <td>0.082569</td>\n",
       "      <td>0</td>\n",
       "    </tr>\n",
       "  </tbody>\n",
       "</table>\n",
       "<p>5 rows × 27 columns</p>\n",
       "</div>"
      ],
      "text/plain": [
       "                                                 url  urlid  \\\n",
       "0  http://www.bloomberg.com/news/2010-12-23/ibm-p...   4042   \n",
       "1  http://www.popsci.com/technology/article/2012-...   8471   \n",
       "2  http://www.menshealth.com/health/flu-fighting-...   1164   \n",
       "3  http://www.dumblittleman.com/2007/12/10-foolpr...   6684   \n",
       "4  http://bleacherreport.com/articles/1205138-the...   9006   \n",
       "\n",
       "                                         boilerplate alchemy_category  \\\n",
       "0  {\"title\":\"IBM Sees Holographic Calls Air Breat...         business   \n",
       "1  {\"title\":\"The Fully Electronic Futuristic Star...       recreation   \n",
       "2  {\"title\":\"Fruits that Fight the Flu fruits tha...           health   \n",
       "3  {\"title\":\"10 Foolproof Tips for Better Sleep \"...           health   \n",
       "4  {\"title\":\"The 50 Coolest Jerseys You Didn t Kn...           sports   \n",
       "\n",
       "  alchemy_category_score  avglinksize  commonlinkratio_1  commonlinkratio_2  \\\n",
       "0               0.789131     2.055556           0.676471           0.205882   \n",
       "1               0.574147     3.677966           0.508021           0.288770   \n",
       "2               0.996526     2.382883           0.562016           0.321705   \n",
       "3               0.801248     1.543103           0.400000           0.100000   \n",
       "4               0.719157     2.676471           0.500000           0.222222   \n",
       "\n",
       "   commonlinkratio_3  commonlinkratio_4  ...  is_news  lengthyLinkDomain  \\\n",
       "0           0.047059           0.023529  ...        1                  1   \n",
       "1           0.213904           0.144385  ...        1                  1   \n",
       "2           0.120155           0.042636  ...        1                  1   \n",
       "3           0.016667           0.000000  ...        1                  0   \n",
       "4           0.123457           0.043210  ...        1                  1   \n",
       "\n",
       "   linkwordscore  news_front_page  non_markup_alphanum_characters  \\\n",
       "0             24                0                            5424   \n",
       "1             40                0                            4973   \n",
       "2             55                0                            2240   \n",
       "3             24                0                            2737   \n",
       "4             14                0                           12032   \n",
       "\n",
       "   numberOfLinks  numwords_in_url parametrizedLinkRatio  \\\n",
       "0            170                8              0.152941   \n",
       "1            187                9              0.181818   \n",
       "2            258               11              0.166667   \n",
       "3            120                5              0.041667   \n",
       "4            162               10              0.098765   \n",
       "\n",
       "   spelling_errors_ratio  label  \n",
       "0               0.079130      0  \n",
       "1               0.125448      1  \n",
       "2               0.057613      1  \n",
       "3               0.100858      1  \n",
       "4               0.082569      0  \n",
       "\n",
       "[5 rows x 27 columns]"
      ]
     },
     "execution_count": 2,
     "metadata": {},
     "output_type": "execute_result"
    }
   ],
   "source": [
    "# file with tab separetor \n",
    "df = pd.read_csv('../input/stumbleupon/train.tsv', sep='\\t')\n",
    "df.head()"
   ]
  },
  {
   "cell_type": "markdown",
   "id": "38b41645",
   "metadata": {
    "papermill": {
     "duration": 0.035508,
     "end_time": "2022-03-13T12:16:58.100689",
     "exception": false,
     "start_time": "2022-03-13T12:16:58.065181",
     "status": "completed"
    },
    "tags": []
   },
   "source": [
    "# Data analysis"
   ]
  },
  {
   "cell_type": "code",
   "execution_count": 3,
   "id": "399c8da4",
   "metadata": {
    "execution": {
     "iopub.execute_input": "2022-03-13T12:16:58.170403Z",
     "iopub.status.busy": "2022-03-13T12:16:58.169475Z",
     "iopub.status.idle": "2022-03-13T12:16:58.196202Z",
     "shell.execute_reply": "2022-03-13T12:16:58.196888Z",
     "shell.execute_reply.started": "2022-03-13T11:15:46.687580Z"
    },
    "papermill": {
     "duration": 0.063355,
     "end_time": "2022-03-13T12:16:58.197126",
     "exception": false,
     "start_time": "2022-03-13T12:16:58.133771",
     "status": "completed"
    },
    "tags": []
   },
   "outputs": [
    {
     "name": "stdout",
     "output_type": "stream",
     "text": [
      "<class 'pandas.core.frame.DataFrame'>\n",
      "RangeIndex: 7395 entries, 0 to 7394\n",
      "Data columns (total 27 columns):\n",
      " #   Column                          Non-Null Count  Dtype  \n",
      "---  ------                          --------------  -----  \n",
      " 0   url                             7395 non-null   object \n",
      " 1   urlid                           7395 non-null   int64  \n",
      " 2   boilerplate                     7395 non-null   object \n",
      " 3   alchemy_category                7395 non-null   object \n",
      " 4   alchemy_category_score          7395 non-null   object \n",
      " 5   avglinksize                     7395 non-null   float64\n",
      " 6   commonlinkratio_1               7395 non-null   float64\n",
      " 7   commonlinkratio_2               7395 non-null   float64\n",
      " 8   commonlinkratio_3               7395 non-null   float64\n",
      " 9   commonlinkratio_4               7395 non-null   float64\n",
      " 10  compression_ratio               7395 non-null   float64\n",
      " 11  embed_ratio                     7395 non-null   float64\n",
      " 12  framebased                      7395 non-null   int64  \n",
      " 13  frameTagRatio                   7395 non-null   float64\n",
      " 14  hasDomainLink                   7395 non-null   int64  \n",
      " 15  html_ratio                      7395 non-null   float64\n",
      " 16  image_ratio                     7395 non-null   float64\n",
      " 17  is_news                         7395 non-null   object \n",
      " 18  lengthyLinkDomain               7395 non-null   int64  \n",
      " 19  linkwordscore                   7395 non-null   int64  \n",
      " 20  news_front_page                 7395 non-null   object \n",
      " 21  non_markup_alphanum_characters  7395 non-null   int64  \n",
      " 22  numberOfLinks                   7395 non-null   int64  \n",
      " 23  numwords_in_url                 7395 non-null   int64  \n",
      " 24  parametrizedLinkRatio           7395 non-null   float64\n",
      " 25  spelling_errors_ratio           7395 non-null   float64\n",
      " 26  label                           7395 non-null   int64  \n",
      "dtypes: float64(12), int64(9), object(6)\n",
      "memory usage: 1.5+ MB\n"
     ]
    }
   ],
   "source": [
    "df.info()"
   ]
  },
  {
   "cell_type": "code",
   "execution_count": 4,
   "id": "d4f679a3",
   "metadata": {
    "execution": {
     "iopub.execute_input": "2022-03-13T12:16:58.267843Z",
     "iopub.status.busy": "2022-03-13T12:16:58.267201Z",
     "iopub.status.idle": "2022-03-13T12:16:58.335605Z",
     "shell.execute_reply": "2022-03-13T12:16:58.335089Z",
     "shell.execute_reply.started": "2022-03-13T11:15:46.707080Z"
    },
    "papermill": {
     "duration": 0.103879,
     "end_time": "2022-03-13T12:16:58.335779",
     "exception": false,
     "start_time": "2022-03-13T12:16:58.231900",
     "status": "completed"
    },
    "tags": []
   },
   "outputs": [
    {
     "data": {
      "text/html": [
       "<div>\n",
       "<style scoped>\n",
       "    .dataframe tbody tr th:only-of-type {\n",
       "        vertical-align: middle;\n",
       "    }\n",
       "\n",
       "    .dataframe tbody tr th {\n",
       "        vertical-align: top;\n",
       "    }\n",
       "\n",
       "    .dataframe thead th {\n",
       "        text-align: right;\n",
       "    }\n",
       "</style>\n",
       "<table border=\"1\" class=\"dataframe\">\n",
       "  <thead>\n",
       "    <tr style=\"text-align: right;\">\n",
       "      <th></th>\n",
       "      <th>urlid</th>\n",
       "      <th>avglinksize</th>\n",
       "      <th>commonlinkratio_1</th>\n",
       "      <th>commonlinkratio_2</th>\n",
       "      <th>commonlinkratio_3</th>\n",
       "      <th>commonlinkratio_4</th>\n",
       "      <th>compression_ratio</th>\n",
       "      <th>embed_ratio</th>\n",
       "      <th>framebased</th>\n",
       "      <th>frameTagRatio</th>\n",
       "      <th>...</th>\n",
       "      <th>html_ratio</th>\n",
       "      <th>image_ratio</th>\n",
       "      <th>lengthyLinkDomain</th>\n",
       "      <th>linkwordscore</th>\n",
       "      <th>non_markup_alphanum_characters</th>\n",
       "      <th>numberOfLinks</th>\n",
       "      <th>numwords_in_url</th>\n",
       "      <th>parametrizedLinkRatio</th>\n",
       "      <th>spelling_errors_ratio</th>\n",
       "      <th>label</th>\n",
       "    </tr>\n",
       "  </thead>\n",
       "  <tbody>\n",
       "    <tr>\n",
       "      <th>count</th>\n",
       "      <td>7395.000000</td>\n",
       "      <td>7395.000000</td>\n",
       "      <td>7395.000000</td>\n",
       "      <td>7395.000000</td>\n",
       "      <td>7395.000000</td>\n",
       "      <td>7395.000000</td>\n",
       "      <td>7395.000000</td>\n",
       "      <td>7395.000000</td>\n",
       "      <td>7395.0</td>\n",
       "      <td>7395.000000</td>\n",
       "      <td>...</td>\n",
       "      <td>7395.000000</td>\n",
       "      <td>7395.000000</td>\n",
       "      <td>7395.000000</td>\n",
       "      <td>7395.000000</td>\n",
       "      <td>7395.000000</td>\n",
       "      <td>7395.000000</td>\n",
       "      <td>7395.000000</td>\n",
       "      <td>7395.000000</td>\n",
       "      <td>7395.000000</td>\n",
       "      <td>7395.000000</td>\n",
       "    </tr>\n",
       "    <tr>\n",
       "      <th>mean</th>\n",
       "      <td>5305.704665</td>\n",
       "      <td>2.761823</td>\n",
       "      <td>0.468230</td>\n",
       "      <td>0.214080</td>\n",
       "      <td>0.092062</td>\n",
       "      <td>0.049262</td>\n",
       "      <td>2.255103</td>\n",
       "      <td>-0.103750</td>\n",
       "      <td>0.0</td>\n",
       "      <td>0.056423</td>\n",
       "      <td>...</td>\n",
       "      <td>0.233778</td>\n",
       "      <td>0.275709</td>\n",
       "      <td>0.660311</td>\n",
       "      <td>30.077079</td>\n",
       "      <td>5716.598242</td>\n",
       "      <td>178.754564</td>\n",
       "      <td>4.960649</td>\n",
       "      <td>0.172864</td>\n",
       "      <td>0.101221</td>\n",
       "      <td>0.513320</td>\n",
       "    </tr>\n",
       "    <tr>\n",
       "      <th>std</th>\n",
       "      <td>3048.384114</td>\n",
       "      <td>8.619793</td>\n",
       "      <td>0.203133</td>\n",
       "      <td>0.146743</td>\n",
       "      <td>0.095978</td>\n",
       "      <td>0.072629</td>\n",
       "      <td>5.704313</td>\n",
       "      <td>0.306545</td>\n",
       "      <td>0.0</td>\n",
       "      <td>0.041446</td>\n",
       "      <td>...</td>\n",
       "      <td>0.052487</td>\n",
       "      <td>1.919320</td>\n",
       "      <td>0.473636</td>\n",
       "      <td>20.393101</td>\n",
       "      <td>8875.432430</td>\n",
       "      <td>179.466198</td>\n",
       "      <td>3.233111</td>\n",
       "      <td>0.183286</td>\n",
       "      <td>0.079231</td>\n",
       "      <td>0.499856</td>\n",
       "    </tr>\n",
       "    <tr>\n",
       "      <th>min</th>\n",
       "      <td>1.000000</td>\n",
       "      <td>0.000000</td>\n",
       "      <td>0.000000</td>\n",
       "      <td>0.000000</td>\n",
       "      <td>0.000000</td>\n",
       "      <td>0.000000</td>\n",
       "      <td>0.000000</td>\n",
       "      <td>-1.000000</td>\n",
       "      <td>0.0</td>\n",
       "      <td>0.000000</td>\n",
       "      <td>...</td>\n",
       "      <td>0.045564</td>\n",
       "      <td>-1.000000</td>\n",
       "      <td>0.000000</td>\n",
       "      <td>0.000000</td>\n",
       "      <td>0.000000</td>\n",
       "      <td>1.000000</td>\n",
       "      <td>0.000000</td>\n",
       "      <td>0.000000</td>\n",
       "      <td>0.000000</td>\n",
       "      <td>0.000000</td>\n",
       "    </tr>\n",
       "    <tr>\n",
       "      <th>25%</th>\n",
       "      <td>2688.500000</td>\n",
       "      <td>1.602062</td>\n",
       "      <td>0.340370</td>\n",
       "      <td>0.105263</td>\n",
       "      <td>0.022222</td>\n",
       "      <td>0.000000</td>\n",
       "      <td>0.442616</td>\n",
       "      <td>0.000000</td>\n",
       "      <td>0.0</td>\n",
       "      <td>0.028502</td>\n",
       "      <td>...</td>\n",
       "      <td>0.201061</td>\n",
       "      <td>0.025900</td>\n",
       "      <td>0.000000</td>\n",
       "      <td>14.000000</td>\n",
       "      <td>1579.000000</td>\n",
       "      <td>82.000000</td>\n",
       "      <td>3.000000</td>\n",
       "      <td>0.040984</td>\n",
       "      <td>0.068739</td>\n",
       "      <td>0.000000</td>\n",
       "    </tr>\n",
       "    <tr>\n",
       "      <th>50%</th>\n",
       "      <td>5304.000000</td>\n",
       "      <td>2.088235</td>\n",
       "      <td>0.481481</td>\n",
       "      <td>0.202454</td>\n",
       "      <td>0.068627</td>\n",
       "      <td>0.022222</td>\n",
       "      <td>0.483680</td>\n",
       "      <td>0.000000</td>\n",
       "      <td>0.0</td>\n",
       "      <td>0.045775</td>\n",
       "      <td>...</td>\n",
       "      <td>0.230564</td>\n",
       "      <td>0.083051</td>\n",
       "      <td>1.000000</td>\n",
       "      <td>25.000000</td>\n",
       "      <td>3500.000000</td>\n",
       "      <td>139.000000</td>\n",
       "      <td>5.000000</td>\n",
       "      <td>0.113402</td>\n",
       "      <td>0.089312</td>\n",
       "      <td>1.000000</td>\n",
       "    </tr>\n",
       "    <tr>\n",
       "      <th>75%</th>\n",
       "      <td>7946.500000</td>\n",
       "      <td>2.627451</td>\n",
       "      <td>0.616604</td>\n",
       "      <td>0.300000</td>\n",
       "      <td>0.133333</td>\n",
       "      <td>0.065065</td>\n",
       "      <td>0.578227</td>\n",
       "      <td>0.000000</td>\n",
       "      <td>0.0</td>\n",
       "      <td>0.073459</td>\n",
       "      <td>...</td>\n",
       "      <td>0.260770</td>\n",
       "      <td>0.236700</td>\n",
       "      <td>1.000000</td>\n",
       "      <td>43.000000</td>\n",
       "      <td>6377.000000</td>\n",
       "      <td>222.000000</td>\n",
       "      <td>7.000000</td>\n",
       "      <td>0.241299</td>\n",
       "      <td>0.112376</td>\n",
       "      <td>1.000000</td>\n",
       "    </tr>\n",
       "    <tr>\n",
       "      <th>max</th>\n",
       "      <td>10566.000000</td>\n",
       "      <td>363.000000</td>\n",
       "      <td>1.000000</td>\n",
       "      <td>1.000000</td>\n",
       "      <td>0.980392</td>\n",
       "      <td>0.980392</td>\n",
       "      <td>21.000000</td>\n",
       "      <td>0.250000</td>\n",
       "      <td>0.0</td>\n",
       "      <td>0.444444</td>\n",
       "      <td>...</td>\n",
       "      <td>0.716883</td>\n",
       "      <td>113.333333</td>\n",
       "      <td>1.000000</td>\n",
       "      <td>100.000000</td>\n",
       "      <td>207952.000000</td>\n",
       "      <td>4997.000000</td>\n",
       "      <td>22.000000</td>\n",
       "      <td>1.000000</td>\n",
       "      <td>1.000000</td>\n",
       "      <td>1.000000</td>\n",
       "    </tr>\n",
       "  </tbody>\n",
       "</table>\n",
       "<p>8 rows × 21 columns</p>\n",
       "</div>"
      ],
      "text/plain": [
       "              urlid  avglinksize  commonlinkratio_1  commonlinkratio_2  \\\n",
       "count   7395.000000  7395.000000        7395.000000        7395.000000   \n",
       "mean    5305.704665     2.761823           0.468230           0.214080   \n",
       "std     3048.384114     8.619793           0.203133           0.146743   \n",
       "min        1.000000     0.000000           0.000000           0.000000   \n",
       "25%     2688.500000     1.602062           0.340370           0.105263   \n",
       "50%     5304.000000     2.088235           0.481481           0.202454   \n",
       "75%     7946.500000     2.627451           0.616604           0.300000   \n",
       "max    10566.000000   363.000000           1.000000           1.000000   \n",
       "\n",
       "       commonlinkratio_3  commonlinkratio_4  compression_ratio  embed_ratio  \\\n",
       "count        7395.000000        7395.000000        7395.000000  7395.000000   \n",
       "mean            0.092062           0.049262           2.255103    -0.103750   \n",
       "std             0.095978           0.072629           5.704313     0.306545   \n",
       "min             0.000000           0.000000           0.000000    -1.000000   \n",
       "25%             0.022222           0.000000           0.442616     0.000000   \n",
       "50%             0.068627           0.022222           0.483680     0.000000   \n",
       "75%             0.133333           0.065065           0.578227     0.000000   \n",
       "max             0.980392           0.980392          21.000000     0.250000   \n",
       "\n",
       "       framebased  frameTagRatio  ...   html_ratio  image_ratio  \\\n",
       "count      7395.0    7395.000000  ...  7395.000000  7395.000000   \n",
       "mean          0.0       0.056423  ...     0.233778     0.275709   \n",
       "std           0.0       0.041446  ...     0.052487     1.919320   \n",
       "min           0.0       0.000000  ...     0.045564    -1.000000   \n",
       "25%           0.0       0.028502  ...     0.201061     0.025900   \n",
       "50%           0.0       0.045775  ...     0.230564     0.083051   \n",
       "75%           0.0       0.073459  ...     0.260770     0.236700   \n",
       "max           0.0       0.444444  ...     0.716883   113.333333   \n",
       "\n",
       "       lengthyLinkDomain  linkwordscore  non_markup_alphanum_characters  \\\n",
       "count        7395.000000    7395.000000                     7395.000000   \n",
       "mean            0.660311      30.077079                     5716.598242   \n",
       "std             0.473636      20.393101                     8875.432430   \n",
       "min             0.000000       0.000000                        0.000000   \n",
       "25%             0.000000      14.000000                     1579.000000   \n",
       "50%             1.000000      25.000000                     3500.000000   \n",
       "75%             1.000000      43.000000                     6377.000000   \n",
       "max             1.000000     100.000000                   207952.000000   \n",
       "\n",
       "       numberOfLinks  numwords_in_url  parametrizedLinkRatio  \\\n",
       "count    7395.000000      7395.000000            7395.000000   \n",
       "mean      178.754564         4.960649               0.172864   \n",
       "std       179.466198         3.233111               0.183286   \n",
       "min         1.000000         0.000000               0.000000   \n",
       "25%        82.000000         3.000000               0.040984   \n",
       "50%       139.000000         5.000000               0.113402   \n",
       "75%       222.000000         7.000000               0.241299   \n",
       "max      4997.000000        22.000000               1.000000   \n",
       "\n",
       "       spelling_errors_ratio        label  \n",
       "count            7395.000000  7395.000000  \n",
       "mean                0.101221     0.513320  \n",
       "std                 0.079231     0.499856  \n",
       "min                 0.000000     0.000000  \n",
       "25%                 0.068739     0.000000  \n",
       "50%                 0.089312     1.000000  \n",
       "75%                 0.112376     1.000000  \n",
       "max                 1.000000     1.000000  \n",
       "\n",
       "[8 rows x 21 columns]"
      ]
     },
     "execution_count": 4,
     "metadata": {},
     "output_type": "execute_result"
    }
   ],
   "source": [
    "df.describe()"
   ]
  },
  {
   "cell_type": "code",
   "execution_count": 5,
   "id": "24594b14",
   "metadata": {
    "execution": {
     "iopub.execute_input": "2022-03-13T12:16:58.409102Z",
     "iopub.status.busy": "2022-03-13T12:16:58.408181Z",
     "iopub.status.idle": "2022-03-13T12:16:58.414197Z",
     "shell.execute_reply": "2022-03-13T12:16:58.413635Z",
     "shell.execute_reply.started": "2022-03-13T11:15:46.780907Z"
    },
    "papermill": {
     "duration": 0.042932,
     "end_time": "2022-03-13T12:16:58.414324",
     "exception": false,
     "start_time": "2022-03-13T12:16:58.371392",
     "status": "completed"
    },
    "tags": []
   },
   "outputs": [
    {
     "data": {
      "text/plain": [
       "array([0, 1])"
      ]
     },
     "execution_count": 5,
     "metadata": {},
     "output_type": "execute_result"
    }
   ],
   "source": [
    "# determine the values of label\n",
    "df['label'].unique()"
   ]
  },
  {
   "cell_type": "code",
   "execution_count": 6,
   "id": "c54bc083",
   "metadata": {
    "execution": {
     "iopub.execute_input": "2022-03-13T12:16:58.489770Z",
     "iopub.status.busy": "2022-03-13T12:16:58.489028Z",
     "iopub.status.idle": "2022-03-13T12:17:01.529706Z",
     "shell.execute_reply": "2022-03-13T12:17:01.530172Z",
     "shell.execute_reply.started": "2022-03-13T11:15:46.789581Z"
    },
    "papermill": {
     "duration": 3.080333,
     "end_time": "2022-03-13T12:17:01.530332",
     "exception": false,
     "start_time": "2022-03-13T12:16:58.449999",
     "status": "completed"
    },
    "tags": []
   },
   "outputs": [
    {
     "data": {
      "text/plain": [
       "array([[<AxesSubplot:title={'center':'urlid'}>,\n",
       "        <AxesSubplot:title={'center':'avglinksize'}>,\n",
       "        <AxesSubplot:title={'center':'commonlinkratio_1'}>,\n",
       "        <AxesSubplot:title={'center':'commonlinkratio_2'}>,\n",
       "        <AxesSubplot:title={'center':'commonlinkratio_3'}>],\n",
       "       [<AxesSubplot:title={'center':'commonlinkratio_4'}>,\n",
       "        <AxesSubplot:title={'center':'compression_ratio'}>,\n",
       "        <AxesSubplot:title={'center':'embed_ratio'}>,\n",
       "        <AxesSubplot:title={'center':'framebased'}>,\n",
       "        <AxesSubplot:title={'center':'frameTagRatio'}>],\n",
       "       [<AxesSubplot:title={'center':'hasDomainLink'}>,\n",
       "        <AxesSubplot:title={'center':'html_ratio'}>,\n",
       "        <AxesSubplot:title={'center':'image_ratio'}>,\n",
       "        <AxesSubplot:title={'center':'lengthyLinkDomain'}>,\n",
       "        <AxesSubplot:title={'center':'linkwordscore'}>],\n",
       "       [<AxesSubplot:title={'center':'non_markup_alphanum_characters'}>,\n",
       "        <AxesSubplot:title={'center':'numberOfLinks'}>,\n",
       "        <AxesSubplot:title={'center':'numwords_in_url'}>,\n",
       "        <AxesSubplot:title={'center':'parametrizedLinkRatio'}>,\n",
       "        <AxesSubplot:title={'center':'spelling_errors_ratio'}>],\n",
       "       [<AxesSubplot:title={'center':'label'}>, <AxesSubplot:>,\n",
       "        <AxesSubplot:>, <AxesSubplot:>, <AxesSubplot:>]], dtype=object)"
      ]
     },
     "execution_count": 6,
     "metadata": {},
     "output_type": "execute_result"
    },
    {
     "data": {
      "image/png": "[encoded data removed]",
      "text/plain": [
       "<Figure size 1440x1080 with 25 Axes>"
      ]
     },
     "metadata": {
      "needs_background": "light"
     },
     "output_type": "display_data"
    }
   ],
   "source": [
    "# visualize the features\n",
    "df.hist(figsize=(20,15))"
   ]
  },
  {
   "cell_type": "code",
   "execution_count": 7,
   "id": "7dd998b3",
   "metadata": {
    "execution": {
     "iopub.execute_input": "2022-03-13T12:17:01.607981Z",
     "iopub.status.busy": "2022-03-13T12:17:01.607341Z",
     "iopub.status.idle": "2022-03-13T12:17:01.614611Z",
     "shell.execute_reply": "2022-03-13T12:17:01.615058Z",
     "shell.execute_reply.started": "2022-03-13T11:15:49.945831Z"
    },
    "papermill": {
     "duration": 0.047954,
     "end_time": "2022-03-13T12:17:01.615227",
     "exception": false,
     "start_time": "2022-03-13T12:17:01.567273",
     "status": "completed"
    },
    "tags": []
   },
   "outputs": [
    {
     "data": {
      "text/plain": [
       "array([0])"
      ]
     },
     "execution_count": 7,
     "metadata": {},
     "output_type": "execute_result"
    }
   ],
   "source": [
    "# the feature framebased have a single value which is 0\n",
    "df['framebased'].unique()"
   ]
  },
  {
   "cell_type": "code",
   "execution_count": 8,
   "id": "573dc3fe",
   "metadata": {
    "execution": {
     "iopub.execute_input": "2022-03-13T12:17:01.707688Z",
     "iopub.status.busy": "2022-03-13T12:17:01.697128Z",
     "iopub.status.idle": "2022-03-13T12:17:01.725884Z",
     "shell.execute_reply": "2022-03-13T12:17:01.726574Z",
     "shell.execute_reply.started": "2022-03-13T11:15:49.953933Z"
    },
    "papermill": {
     "duration": 0.074828,
     "end_time": "2022-03-13T12:17:01.726813",
     "exception": false,
     "start_time": "2022-03-13T12:17:01.651985",
     "status": "completed"
    },
    "tags": []
   },
   "outputs": [
    {
     "name": "stderr",
     "output_type": "stream",
     "text": [
      "/opt/conda/lib/python3.7/site-packages/ipykernel_launcher.py:5: FutureWarning: The default value of regex will change from True to False in a future version. In addition, single character regular expressions will *not* be treated as literal strings when regex=True.\n",
      "  \"\"\"\n"
     ]
    },
    {
     "data": {
      "text/html": [
       "<div>\n",
       "<style scoped>\n",
       "    .dataframe tbody tr th:only-of-type {\n",
       "        vertical-align: middle;\n",
       "    }\n",
       "\n",
       "    .dataframe tbody tr th {\n",
       "        vertical-align: top;\n",
       "    }\n",
       "\n",
       "    .dataframe thead th {\n",
       "        text-align: right;\n",
       "    }\n",
       "</style>\n",
       "<table border=\"1\" class=\"dataframe\">\n",
       "  <thead>\n",
       "    <tr style=\"text-align: right;\">\n",
       "      <th></th>\n",
       "      <th>url</th>\n",
       "      <th>boilerplate</th>\n",
       "      <th>alchemy_category</th>\n",
       "      <th>alchemy_category_score</th>\n",
       "      <th>avglinksize</th>\n",
       "      <th>commonlinkratio_1</th>\n",
       "      <th>commonlinkratio_2</th>\n",
       "      <th>commonlinkratio_3</th>\n",
       "      <th>commonlinkratio_4</th>\n",
       "      <th>compression_ratio</th>\n",
       "      <th>...</th>\n",
       "      <th>is_news</th>\n",
       "      <th>lengthyLinkDomain</th>\n",
       "      <th>linkwordscore</th>\n",
       "      <th>news_front_page</th>\n",
       "      <th>non_markup_alphanum_characters</th>\n",
       "      <th>numberOfLinks</th>\n",
       "      <th>numwords_in_url</th>\n",
       "      <th>parametrizedLinkRatio</th>\n",
       "      <th>spelling_errors_ratio</th>\n",
       "      <th>label</th>\n",
       "    </tr>\n",
       "  </thead>\n",
       "  <tbody>\n",
       "    <tr>\n",
       "      <th>0</th>\n",
       "      <td>http://www.bloomberg.com/news/2010-12-23/ibm-p...</td>\n",
       "      <td>{\"title\":\"IBM Sees Holographic Calls Air Breat...</td>\n",
       "      <td>business</td>\n",
       "      <td>0.789131</td>\n",
       "      <td>2.055556</td>\n",
       "      <td>0.676471</td>\n",
       "      <td>0.205882</td>\n",
       "      <td>0.047059</td>\n",
       "      <td>0.023529</td>\n",
       "      <td>0.443783</td>\n",
       "      <td>...</td>\n",
       "      <td>1</td>\n",
       "      <td>1</td>\n",
       "      <td>24</td>\n",
       "      <td>0</td>\n",
       "      <td>5424</td>\n",
       "      <td>170</td>\n",
       "      <td>8</td>\n",
       "      <td>0.152941</td>\n",
       "      <td>0.079130</td>\n",
       "      <td>0</td>\n",
       "    </tr>\n",
       "    <tr>\n",
       "      <th>1</th>\n",
       "      <td>http://www.popsci.com/technology/article/2012-...</td>\n",
       "      <td>{\"title\":\"The Fully Electronic Futuristic Star...</td>\n",
       "      <td>recreation</td>\n",
       "      <td>0.574147</td>\n",
       "      <td>3.677966</td>\n",
       "      <td>0.508021</td>\n",
       "      <td>0.288770</td>\n",
       "      <td>0.213904</td>\n",
       "      <td>0.144385</td>\n",
       "      <td>0.468649</td>\n",
       "      <td>...</td>\n",
       "      <td>1</td>\n",
       "      <td>1</td>\n",
       "      <td>40</td>\n",
       "      <td>0</td>\n",
       "      <td>4973</td>\n",
       "      <td>187</td>\n",
       "      <td>9</td>\n",
       "      <td>0.181818</td>\n",
       "      <td>0.125448</td>\n",
       "      <td>1</td>\n",
       "    </tr>\n",
       "    <tr>\n",
       "      <th>2</th>\n",
       "      <td>http://www.menshealth.com/health/flu-fighting-...</td>\n",
       "      <td>{\"title\":\"Fruits that Fight the Flu fruits tha...</td>\n",
       "      <td>health</td>\n",
       "      <td>0.996526</td>\n",
       "      <td>2.382883</td>\n",
       "      <td>0.562016</td>\n",
       "      <td>0.321705</td>\n",
       "      <td>0.120155</td>\n",
       "      <td>0.042636</td>\n",
       "      <td>0.525448</td>\n",
       "      <td>...</td>\n",
       "      <td>1</td>\n",
       "      <td>1</td>\n",
       "      <td>55</td>\n",
       "      <td>0</td>\n",
       "      <td>2240</td>\n",
       "      <td>258</td>\n",
       "      <td>11</td>\n",
       "      <td>0.166667</td>\n",
       "      <td>0.057613</td>\n",
       "      <td>1</td>\n",
       "    </tr>\n",
       "  </tbody>\n",
       "</table>\n",
       "<p>3 rows × 25 columns</p>\n",
       "</div>"
      ],
      "text/plain": [
       "                                                 url  \\\n",
       "0  http://www.bloomberg.com/news/2010-12-23/ibm-p...   \n",
       "1  http://www.popsci.com/technology/article/2012-...   \n",
       "2  http://www.menshealth.com/health/flu-fighting-...   \n",
       "\n",
       "                                         boilerplate alchemy_category  \\\n",
       "0  {\"title\":\"IBM Sees Holographic Calls Air Breat...         business   \n",
       "1  {\"title\":\"The Fully Electronic Futuristic Star...       recreation   \n",
       "2  {\"title\":\"Fruits that Fight the Flu fruits tha...           health   \n",
       "\n",
       "  alchemy_category_score  avglinksize  commonlinkratio_1  commonlinkratio_2  \\\n",
       "0               0.789131     2.055556           0.676471           0.205882   \n",
       "1               0.574147     3.677966           0.508021           0.288770   \n",
       "2               0.996526     2.382883           0.562016           0.321705   \n",
       "\n",
       "   commonlinkratio_3  commonlinkratio_4  compression_ratio  ...  is_news  \\\n",
       "0           0.047059           0.023529           0.443783  ...        1   \n",
       "1           0.213904           0.144385           0.468649  ...        1   \n",
       "2           0.120155           0.042636           0.525448  ...        1   \n",
       "\n",
       "   lengthyLinkDomain  linkwordscore  news_front_page  \\\n",
       "0                  1             24                0   \n",
       "1                  1             40                0   \n",
       "2                  1             55                0   \n",
       "\n",
       "   non_markup_alphanum_characters  numberOfLinks  numwords_in_url  \\\n",
       "0                            5424            170                8   \n",
       "1                            4973            187                9   \n",
       "2                            2240            258               11   \n",
       "\n",
       "   parametrizedLinkRatio spelling_errors_ratio  label  \n",
       "0               0.152941              0.079130      0  \n",
       "1               0.181818              0.125448      1  \n",
       "2               0.166667              0.057613      1  \n",
       "\n",
       "[3 rows x 25 columns]"
      ]
     },
     "execution_count": 8,
     "metadata": {},
     "output_type": "execute_result"
    }
   ],
   "source": [
    "# delete the columns framebased and urlid from the dataset\n",
    "df.drop('framebased', axis=1, inplace= True)\n",
    "df.drop('urlid', axis=1, inplace= True)\n",
    "# change the value ? by 0 in is_news features and change its type to integer\n",
    "df['is_news'] = df['is_news'].str.replace('?', '0').astype(int)\n",
    "df.head(3)"
   ]
  },
  {
   "cell_type": "code",
   "execution_count": 9,
   "id": "3401f808",
   "metadata": {
    "execution": {
     "iopub.execute_input": "2022-03-13T12:17:01.807812Z",
     "iopub.status.busy": "2022-03-13T12:17:01.806926Z",
     "iopub.status.idle": "2022-03-13T12:17:01.822642Z",
     "shell.execute_reply": "2022-03-13T12:17:01.823351Z",
     "shell.execute_reply.started": "2022-03-13T11:15:49.992759Z"
    },
    "papermill": {
     "duration": 0.057761,
     "end_time": "2022-03-13T12:17:01.823573",
     "exception": false,
     "start_time": "2022-03-13T12:17:01.765812",
     "status": "completed"
    },
    "tags": []
   },
   "outputs": [
    {
     "name": "stdout",
     "output_type": "stream",
     "text": [
      "<class 'pandas.core.frame.DataFrame'>\n",
      "RangeIndex: 7395 entries, 0 to 7394\n",
      "Data columns (total 25 columns):\n",
      " #   Column                          Non-Null Count  Dtype  \n",
      "---  ------                          --------------  -----  \n",
      " 0   url                             7395 non-null   object \n",
      " 1   boilerplate                     7395 non-null   object \n",
      " 2   alchemy_category                7395 non-null   object \n",
      " 3   alchemy_category_score          7395 non-null   object \n",
      " 4   avglinksize                     7395 non-null   float64\n",
      " 5   commonlinkratio_1               7395 non-null   float64\n",
      " 6   commonlinkratio_2               7395 non-null   float64\n",
      " 7   commonlinkratio_3               7395 non-null   float64\n",
      " 8   commonlinkratio_4               7395 non-null   float64\n",
      " 9   compression_ratio               7395 non-null   float64\n",
      " 10  embed_ratio                     7395 non-null   float64\n",
      " 11  frameTagRatio                   7395 non-null   float64\n",
      " 12  hasDomainLink                   7395 non-null   int64  \n",
      " 13  html_ratio                      7395 non-null   float64\n",
      " 14  image_ratio                     7395 non-null   float64\n",
      " 15  is_news                         7395 non-null   int64  \n",
      " 16  lengthyLinkDomain               7395 non-null   int64  \n",
      " 17  linkwordscore                   7395 non-null   int64  \n",
      " 18  news_front_page                 7395 non-null   object \n",
      " 19  non_markup_alphanum_characters  7395 non-null   int64  \n",
      " 20  numberOfLinks                   7395 non-null   int64  \n",
      " 21  numwords_in_url                 7395 non-null   int64  \n",
      " 22  parametrizedLinkRatio           7395 non-null   float64\n",
      " 23  spelling_errors_ratio           7395 non-null   float64\n",
      " 24  label                           7395 non-null   int64  \n",
      "dtypes: float64(12), int64(8), object(5)\n",
      "memory usage: 1.4+ MB\n"
     ]
    }
   ],
   "source": [
    "df.info()"
   ]
  },
  {
   "cell_type": "code",
   "execution_count": 10,
   "id": "fdca9a52",
   "metadata": {
    "execution": {
     "iopub.execute_input": "2022-03-13T12:17:01.903378Z",
     "iopub.status.busy": "2022-03-13T12:17:01.902456Z",
     "iopub.status.idle": "2022-03-13T12:17:01.916860Z",
     "shell.execute_reply": "2022-03-13T12:17:01.917363Z",
     "shell.execute_reply.started": "2022-03-13T11:15:50.012171Z"
    },
    "papermill": {
     "duration": 0.055127,
     "end_time": "2022-03-13T12:17:01.917524",
     "exception": false,
     "start_time": "2022-03-13T12:17:01.862397",
     "status": "completed"
    },
    "tags": []
   },
   "outputs": [
    {
     "data": {
      "text/html": [
       "<div>\n",
       "<style scoped>\n",
       "    .dataframe tbody tr th:only-of-type {\n",
       "        vertical-align: middle;\n",
       "    }\n",
       "\n",
       "    .dataframe tbody tr th {\n",
       "        vertical-align: top;\n",
       "    }\n",
       "\n",
       "    .dataframe thead th {\n",
       "        text-align: right;\n",
       "    }\n",
       "</style>\n",
       "<table border=\"1\" class=\"dataframe\">\n",
       "  <thead>\n",
       "    <tr style=\"text-align: right;\">\n",
       "      <th></th>\n",
       "      <th>mean</th>\n",
       "      <th>count</th>\n",
       "    </tr>\n",
       "    <tr>\n",
       "      <th>alchemy_category</th>\n",
       "      <th></th>\n",
       "      <th></th>\n",
       "    </tr>\n",
       "  </thead>\n",
       "  <tbody>\n",
       "    <tr>\n",
       "      <th>?</th>\n",
       "      <td>0.502135</td>\n",
       "      <td>2342</td>\n",
       "    </tr>\n",
       "    <tr>\n",
       "      <th>recreation</th>\n",
       "      <td>0.684296</td>\n",
       "      <td>1229</td>\n",
       "    </tr>\n",
       "    <tr>\n",
       "      <th>arts_entertainment</th>\n",
       "      <td>0.371945</td>\n",
       "      <td>941</td>\n",
       "    </tr>\n",
       "    <tr>\n",
       "      <th>business</th>\n",
       "      <td>0.711364</td>\n",
       "      <td>880</td>\n",
       "    </tr>\n",
       "    <tr>\n",
       "      <th>health</th>\n",
       "      <td>0.573123</td>\n",
       "      <td>506</td>\n",
       "    </tr>\n",
       "    <tr>\n",
       "      <th>sports</th>\n",
       "      <td>0.205263</td>\n",
       "      <td>380</td>\n",
       "    </tr>\n",
       "    <tr>\n",
       "      <th>culture_politics</th>\n",
       "      <td>0.457726</td>\n",
       "      <td>343</td>\n",
       "    </tr>\n",
       "    <tr>\n",
       "      <th>computer_internet</th>\n",
       "      <td>0.246622</td>\n",
       "      <td>296</td>\n",
       "    </tr>\n",
       "    <tr>\n",
       "      <th>science_technology</th>\n",
       "      <td>0.456747</td>\n",
       "      <td>289</td>\n",
       "    </tr>\n",
       "    <tr>\n",
       "      <th>gaming</th>\n",
       "      <td>0.368421</td>\n",
       "      <td>76</td>\n",
       "    </tr>\n",
       "    <tr>\n",
       "      <th>religion</th>\n",
       "      <td>0.416667</td>\n",
       "      <td>72</td>\n",
       "    </tr>\n",
       "    <tr>\n",
       "      <th>law_crime</th>\n",
       "      <td>0.419355</td>\n",
       "      <td>31</td>\n",
       "    </tr>\n",
       "    <tr>\n",
       "      <th>unknown</th>\n",
       "      <td>0.333333</td>\n",
       "      <td>6</td>\n",
       "    </tr>\n",
       "    <tr>\n",
       "      <th>weather</th>\n",
       "      <td>0.000000</td>\n",
       "      <td>4</td>\n",
       "    </tr>\n",
       "  </tbody>\n",
       "</table>\n",
       "</div>"
      ],
      "text/plain": [
       "                        mean  count\n",
       "alchemy_category                   \n",
       "?                   0.502135   2342\n",
       "recreation          0.684296   1229\n",
       "arts_entertainment  0.371945    941\n",
       "business            0.711364    880\n",
       "health              0.573123    506\n",
       "sports              0.205263    380\n",
       "culture_politics    0.457726    343\n",
       "computer_internet   0.246622    296\n",
       "science_technology  0.456747    289\n",
       "gaming              0.368421     76\n",
       "religion            0.416667     72\n",
       "law_crime           0.419355     31\n",
       "unknown             0.333333      6\n",
       "weather             0.000000      4"
      ]
     },
     "execution_count": 10,
     "metadata": {},
     "output_type": "execute_result"
    }
   ],
   "source": [
    "df.groupby('alchemy_category').label.agg(['mean', 'count']).sort_values('count', ascending=False)"
   ]
  },
  {
   "cell_type": "code",
   "execution_count": 11,
   "id": "7bf7de85",
   "metadata": {
    "execution": {
     "iopub.execute_input": "2022-03-13T12:17:02.000531Z",
     "iopub.status.busy": "2022-03-13T12:17:01.999585Z",
     "iopub.status.idle": "2022-03-13T12:17:02.377029Z",
     "shell.execute_reply": "2022-03-13T12:17:02.376478Z",
     "shell.execute_reply.started": "2022-03-13T11:15:50.029836Z"
    },
    "papermill": {
     "duration": 0.419123,
     "end_time": "2022-03-13T12:17:02.377176",
     "exception": false,
     "start_time": "2022-03-13T12:17:01.958053",
     "status": "completed"
    },
    "tags": []
   },
   "outputs": [
    {
     "data": {
      "text/plain": [
       "<AxesSubplot:>"
      ]
     },
     "execution_count": 11,
     "metadata": {},
     "output_type": "execute_result"
    },
    {
     "data": {
      "image/png": "[encoded data removed]",
      "text/plain": [
       "<Figure size 432x288 with 2 Axes>"
      ]
     },
     "metadata": {
      "needs_background": "light"
     },
     "output_type": "display_data"
    }
   ],
   "source": [
    "sns.heatmap(df.corr().abs()[['label']].sort_values('label'))"
   ]
  },
  {
   "cell_type": "code",
   "execution_count": 12,
   "id": "f5ed0355",
   "metadata": {
    "execution": {
     "iopub.execute_input": "2022-03-13T12:17:02.465934Z",
     "iopub.status.busy": "2022-03-13T12:17:02.463389Z",
     "iopub.status.idle": "2022-03-13T12:17:02.702961Z",
     "shell.execute_reply": "2022-03-13T12:17:02.702140Z",
     "shell.execute_reply.started": "2022-03-13T11:15:50.393234Z"
    },
    "papermill": {
     "duration": 0.283389,
     "end_time": "2022-03-13T12:17:02.703138",
     "exception": false,
     "start_time": "2022-03-13T12:17:02.419749",
     "status": "completed"
    },
    "tags": []
   },
   "outputs": [
    {
     "data": {
      "text/plain": [
       "<AxesSubplot:xlabel='label', ylabel='linkwordscore'>"
      ]
     },
     "execution_count": 12,
     "metadata": {},
     "output_type": "execute_result"
    },
    {
     "data": {
      "image/png": "[encoded data removed]",
      "text/plain": [
       "<Figure size 432x288 with 1 Axes>"
      ]
     },
     "metadata": {
      "needs_background": "light"
     },
     "output_type": "display_data"
    }
   ],
   "source": [
    "sns.violinplot(x='label',y='linkwordscore', data=df)"
   ]
  },
  {
   "cell_type": "code",
   "execution_count": 13,
   "id": "a2a338ff",
   "metadata": {
    "execution": {
     "iopub.execute_input": "2022-03-13T12:17:02.794226Z",
     "iopub.status.busy": "2022-03-13T12:17:02.793575Z",
     "iopub.status.idle": "2022-03-13T12:17:02.795728Z",
     "shell.execute_reply": "2022-03-13T12:17:02.795145Z",
     "shell.execute_reply.started": "2022-03-13T11:15:50.616990Z"
    },
    "papermill": {
     "duration": 0.051406,
     "end_time": "2022-03-13T12:17:02.795863",
     "exception": false,
     "start_time": "2022-03-13T12:17:02.744457",
     "status": "completed"
    },
    "tags": []
   },
   "outputs": [],
   "source": [
    "# delete the column label\n",
    "df1 = df.drop('label', axis=1)"
   ]
  },
  {
   "cell_type": "code",
   "execution_count": 14,
   "id": "fed17786",
   "metadata": {
    "execution": {
     "iopub.execute_input": "2022-03-13T12:17:02.898708Z",
     "iopub.status.busy": "2022-03-13T12:17:02.898051Z",
     "iopub.status.idle": "2022-03-13T12:17:02.902026Z",
     "shell.execute_reply": "2022-03-13T12:17:02.901527Z",
     "shell.execute_reply.started": "2022-03-13T11:15:50.627737Z"
    },
    "papermill": {
     "duration": 0.065146,
     "end_time": "2022-03-13T12:17:02.902156",
     "exception": false,
     "start_time": "2022-03-13T12:17:02.837010",
     "status": "completed"
    },
    "tags": []
   },
   "outputs": [
    {
     "data": {
      "text/html": [
       "<div>\n",
       "<style scoped>\n",
       "    .dataframe tbody tr th:only-of-type {\n",
       "        vertical-align: middle;\n",
       "    }\n",
       "\n",
       "    .dataframe tbody tr th {\n",
       "        vertical-align: top;\n",
       "    }\n",
       "\n",
       "    .dataframe thead th {\n",
       "        text-align: right;\n",
       "    }\n",
       "</style>\n",
       "<table border=\"1\" class=\"dataframe\">\n",
       "  <thead>\n",
       "    <tr style=\"text-align: right;\">\n",
       "      <th></th>\n",
       "      <th>avglinksize</th>\n",
       "      <th>commonlinkratio_1</th>\n",
       "      <th>commonlinkratio_2</th>\n",
       "      <th>commonlinkratio_3</th>\n",
       "      <th>commonlinkratio_4</th>\n",
       "      <th>compression_ratio</th>\n",
       "      <th>embed_ratio</th>\n",
       "      <th>frameTagRatio</th>\n",
       "      <th>hasDomainLink</th>\n",
       "      <th>html_ratio</th>\n",
       "      <th>image_ratio</th>\n",
       "      <th>is_news</th>\n",
       "      <th>lengthyLinkDomain</th>\n",
       "      <th>linkwordscore</th>\n",
       "      <th>non_markup_alphanum_characters</th>\n",
       "      <th>numberOfLinks</th>\n",
       "      <th>numwords_in_url</th>\n",
       "      <th>parametrizedLinkRatio</th>\n",
       "      <th>spelling_errors_ratio</th>\n",
       "    </tr>\n",
       "  </thead>\n",
       "  <tbody>\n",
       "    <tr>\n",
       "      <th>504</th>\n",
       "      <td>1.695652</td>\n",
       "      <td>0.739130</td>\n",
       "      <td>0.304348</td>\n",
       "      <td>0.017391</td>\n",
       "      <td>0.000000</td>\n",
       "      <td>0.419686</td>\n",
       "      <td>0.0</td>\n",
       "      <td>0.047312</td>\n",
       "      <td>0</td>\n",
       "      <td>0.290901</td>\n",
       "      <td>0.024668</td>\n",
       "      <td>0</td>\n",
       "      <td>0</td>\n",
       "      <td>22</td>\n",
       "      <td>3557</td>\n",
       "      <td>115</td>\n",
       "      <td>2</td>\n",
       "      <td>0.113043</td>\n",
       "      <td>0.032567</td>\n",
       "    </tr>\n",
       "    <tr>\n",
       "      <th>1618</th>\n",
       "      <td>2.361538</td>\n",
       "      <td>0.725352</td>\n",
       "      <td>0.288732</td>\n",
       "      <td>0.140845</td>\n",
       "      <td>0.035211</td>\n",
       "      <td>0.431396</td>\n",
       "      <td>0.0</td>\n",
       "      <td>0.037168</td>\n",
       "      <td>0</td>\n",
       "      <td>0.173447</td>\n",
       "      <td>0.009790</td>\n",
       "      <td>1</td>\n",
       "      <td>1</td>\n",
       "      <td>3</td>\n",
       "      <td>47829</td>\n",
       "      <td>142</td>\n",
       "      <td>8</td>\n",
       "      <td>0.063380</td>\n",
       "      <td>0.106061</td>\n",
       "    </tr>\n",
       "    <tr>\n",
       "      <th>1009</th>\n",
       "      <td>2.381356</td>\n",
       "      <td>0.429752</td>\n",
       "      <td>0.231405</td>\n",
       "      <td>0.049587</td>\n",
       "      <td>0.008264</td>\n",
       "      <td>0.451956</td>\n",
       "      <td>0.0</td>\n",
       "      <td>0.084746</td>\n",
       "      <td>0</td>\n",
       "      <td>0.255484</td>\n",
       "      <td>0.036337</td>\n",
       "      <td>0</td>\n",
       "      <td>1</td>\n",
       "      <td>30</td>\n",
       "      <td>3059</td>\n",
       "      <td>121</td>\n",
       "      <td>9</td>\n",
       "      <td>0.322314</td>\n",
       "      <td>0.096070</td>\n",
       "    </tr>\n",
       "    <tr>\n",
       "      <th>4405</th>\n",
       "      <td>2.100000</td>\n",
       "      <td>0.700000</td>\n",
       "      <td>0.300000</td>\n",
       "      <td>0.200000</td>\n",
       "      <td>0.100000</td>\n",
       "      <td>21.000000</td>\n",
       "      <td>-1.0</td>\n",
       "      <td>0.069767</td>\n",
       "      <td>0</td>\n",
       "      <td>0.317526</td>\n",
       "      <td>-1.000000</td>\n",
       "      <td>1</td>\n",
       "      <td>0</td>\n",
       "      <td>4</td>\n",
       "      <td>4525</td>\n",
       "      <td>20</td>\n",
       "      <td>5</td>\n",
       "      <td>0.100000</td>\n",
       "      <td>0.142857</td>\n",
       "    </tr>\n",
       "    <tr>\n",
       "      <th>3090</th>\n",
       "      <td>1.687000</td>\n",
       "      <td>0.403694</td>\n",
       "      <td>0.248901</td>\n",
       "      <td>0.137203</td>\n",
       "      <td>0.102902</td>\n",
       "      <td>0.439292</td>\n",
       "      <td>0.0</td>\n",
       "      <td>0.035961</td>\n",
       "      <td>0</td>\n",
       "      <td>0.180617</td>\n",
       "      <td>0.603571</td>\n",
       "      <td>1</td>\n",
       "      <td>1</td>\n",
       "      <td>44</td>\n",
       "      <td>8830</td>\n",
       "      <td>1137</td>\n",
       "      <td>4</td>\n",
       "      <td>0.263852</td>\n",
       "      <td>0.083026</td>\n",
       "    </tr>\n",
       "  </tbody>\n",
       "</table>\n",
       "</div>"
      ],
      "text/plain": [
       "      avglinksize  commonlinkratio_1  commonlinkratio_2  commonlinkratio_3  \\\n",
       "504      1.695652           0.739130           0.304348           0.017391   \n",
       "1618     2.361538           0.725352           0.288732           0.140845   \n",
       "1009     2.381356           0.429752           0.231405           0.049587   \n",
       "4405     2.100000           0.700000           0.300000           0.200000   \n",
       "3090     1.687000           0.403694           0.248901           0.137203   \n",
       "\n",
       "      commonlinkratio_4  compression_ratio  embed_ratio  frameTagRatio  \\\n",
       "504            0.000000           0.419686          0.0       0.047312   \n",
       "1618           0.035211           0.431396          0.0       0.037168   \n",
       "1009           0.008264           0.451956          0.0       0.084746   \n",
       "4405           0.100000          21.000000         -1.0       0.069767   \n",
       "3090           0.102902           0.439292          0.0       0.035961   \n",
       "\n",
       "      hasDomainLink  html_ratio  image_ratio  is_news  lengthyLinkDomain  \\\n",
       "504               0    0.290901     0.024668        0                  0   \n",
       "1618              0    0.173447     0.009790        1                  1   \n",
       "1009              0    0.255484     0.036337        0                  1   \n",
       "4405              0    0.317526    -1.000000        1                  0   \n",
       "3090              0    0.180617     0.603571        1                  1   \n",
       "\n",
       "      linkwordscore  non_markup_alphanum_characters  numberOfLinks  \\\n",
       "504              22                            3557            115   \n",
       "1618              3                           47829            142   \n",
       "1009             30                            3059            121   \n",
       "4405              4                            4525             20   \n",
       "3090             44                            8830           1137   \n",
       "\n",
       "      numwords_in_url  parametrizedLinkRatio  spelling_errors_ratio  \n",
       "504                 2               0.113043               0.032567  \n",
       "1618                8               0.063380               0.106061  \n",
       "1009                9               0.322314               0.096070  \n",
       "4405                5               0.100000               0.142857  \n",
       "3090                4               0.263852               0.083026  "
      ]
     },
     "execution_count": 14,
     "metadata": {},
     "output_type": "execute_result"
    }
   ],
   "source": [
    "# gather the features with type number in a variable\n",
    "num_feat = df1.select_dtypes(include=[np.number])\n",
    "num_feat.sample(5)"
   ]
  },
  {
   "cell_type": "code",
   "execution_count": 15,
   "id": "a09fe561",
   "metadata": {
    "execution": {
     "iopub.execute_input": "2022-03-13T12:17:02.990860Z",
     "iopub.status.busy": "2022-03-13T12:17:02.990223Z",
     "iopub.status.idle": "2022-03-13T12:17:02.999039Z",
     "shell.execute_reply": "2022-03-13T12:17:02.999508Z",
     "shell.execute_reply.started": "2022-03-13T11:15:50.656507Z"
    },
    "papermill": {
     "duration": 0.055355,
     "end_time": "2022-03-13T12:17:02.999703",
     "exception": false,
     "start_time": "2022-03-13T12:17:02.944348",
     "status": "completed"
    },
    "tags": []
   },
   "outputs": [],
   "source": [
    "# normalising\n",
    "num_feat = (num_feat - num_feat.mean())/ num_feat.std()"
   ]
  },
  {
   "cell_type": "code",
   "execution_count": 16,
   "id": "8825be93",
   "metadata": {
    "execution": {
     "iopub.execute_input": "2022-03-13T12:17:03.086364Z",
     "iopub.status.busy": "2022-03-13T12:17:03.085820Z",
     "iopub.status.idle": "2022-03-13T12:17:03.100351Z",
     "shell.execute_reply": "2022-03-13T12:17:03.099596Z",
     "shell.execute_reply.started": "2022-03-13T11:15:50.672038Z"
    },
    "papermill": {
     "duration": 0.059506,
     "end_time": "2022-03-13T12:17:03.100536",
     "exception": false,
     "start_time": "2022-03-13T12:17:03.041030",
     "status": "completed"
    },
    "tags": []
   },
   "outputs": [
    {
     "name": "stderr",
     "output_type": "stream",
     "text": [
      "/opt/conda/lib/python3.7/site-packages/ipykernel_launcher.py:2: DeprecationWarning: `np.object` is a deprecated alias for the builtin `object`. To silence this warning, use `object` by itself. Doing this will not modify any behavior and is safe. \n",
      "Deprecated in NumPy 1.20; for more details and guidance: https://numpy.org/devdocs/release/1.20.0-notes.html#deprecations\n",
      "  \n"
     ]
    },
    {
     "data": {
      "text/html": [
       "<div>\n",
       "<style scoped>\n",
       "    .dataframe tbody tr th:only-of-type {\n",
       "        vertical-align: middle;\n",
       "    }\n",
       "\n",
       "    .dataframe tbody tr th {\n",
       "        vertical-align: top;\n",
       "    }\n",
       "\n",
       "    .dataframe thead th {\n",
       "        text-align: right;\n",
       "    }\n",
       "</style>\n",
       "<table border=\"1\" class=\"dataframe\">\n",
       "  <thead>\n",
       "    <tr style=\"text-align: right;\">\n",
       "      <th></th>\n",
       "      <th>url</th>\n",
       "      <th>boilerplate</th>\n",
       "      <th>alchemy_category</th>\n",
       "      <th>alchemy_category_score</th>\n",
       "      <th>news_front_page</th>\n",
       "    </tr>\n",
       "  </thead>\n",
       "  <tbody>\n",
       "    <tr>\n",
       "      <th>3627</th>\n",
       "      <td>http://www.bbc.co.uk/news/technology-15824288</td>\n",
       "      <td>{\"title\":\"BBC News Long lasting all weather ni...</td>\n",
       "      <td>computer_internet</td>\n",
       "      <td>0.538823</td>\n",
       "      <td>0</td>\n",
       "    </tr>\n",
       "    <tr>\n",
       "      <th>5137</th>\n",
       "      <td>http://bostonrant.ytmnd.com/</td>\n",
       "      <td>{\"title\":\"YTMND Boston Bomb Scare Rant \",\"body...</td>\n",
       "      <td>culture_politics</td>\n",
       "      <td>0.49866</td>\n",
       "      <td>0</td>\n",
       "    </tr>\n",
       "    <tr>\n",
       "      <th>3711</th>\n",
       "      <td>http://thinknice.com/will-ferrell-landlord-pro...</td>\n",
       "      <td>{\"title\":\"Landlord Problems Will Ferrell Meets...</td>\n",
       "      <td>recreation</td>\n",
       "      <td>0.743296</td>\n",
       "      <td>0</td>\n",
       "    </tr>\n",
       "    <tr>\n",
       "      <th>2835</th>\n",
       "      <td>http://www.gadgetrance.com/nokia-n800-series-d...</td>\n",
       "      <td>{\"url\":\"gadgetrance nokia n800 series device c...</td>\n",
       "      <td>computer_internet</td>\n",
       "      <td>0.611559</td>\n",
       "      <td>0</td>\n",
       "    </tr>\n",
       "    <tr>\n",
       "      <th>5168</th>\n",
       "      <td>http://spacedust.atspace.com/private_parking_s...</td>\n",
       "      <td>{\"title\":\"funny private parking funny - privat...</td>\n",
       "      <td>recreation</td>\n",
       "      <td>0.760922</td>\n",
       "      <td>0</td>\n",
       "    </tr>\n",
       "  </tbody>\n",
       "</table>\n",
       "</div>"
      ],
      "text/plain": [
       "                                                    url  \\\n",
       "3627      http://www.bbc.co.uk/news/technology-15824288   \n",
       "5137                       http://bostonrant.ytmnd.com/   \n",
       "3711  http://thinknice.com/will-ferrell-landlord-pro...   \n",
       "2835  http://www.gadgetrance.com/nokia-n800-series-d...   \n",
       "5168  http://spacedust.atspace.com/private_parking_s...   \n",
       "\n",
       "                                            boilerplate   alchemy_category  \\\n",
       "3627  {\"title\":\"BBC News Long lasting all weather ni...  computer_internet   \n",
       "5137  {\"title\":\"YTMND Boston Bomb Scare Rant \",\"body...   culture_politics   \n",
       "3711  {\"title\":\"Landlord Problems Will Ferrell Meets...         recreation   \n",
       "2835  {\"url\":\"gadgetrance nokia n800 series device c...  computer_internet   \n",
       "5168  {\"title\":\"funny private parking funny - privat...         recreation   \n",
       "\n",
       "     alchemy_category_score news_front_page  \n",
       "3627               0.538823               0  \n",
       "5137                0.49866               0  \n",
       "3711               0.743296               0  \n",
       "2835               0.611559               0  \n",
       "5168               0.760922               0  "
      ]
     },
     "execution_count": 16,
     "metadata": {},
     "output_type": "execute_result"
    }
   ],
   "source": [
    "# select columns with type object\n",
    "cat_feat = df1.select_dtypes(include=[np.object])\n",
    "cat_feat.sample(5)\n"
   ]
  },
  {
   "cell_type": "code",
   "execution_count": 17,
   "id": "b91283ed",
   "metadata": {
    "execution": {
     "iopub.execute_input": "2022-03-13T12:17:03.189487Z",
     "iopub.status.busy": "2022-03-13T12:17:03.188556Z",
     "iopub.status.idle": "2022-03-13T12:17:03.196834Z",
     "shell.execute_reply": "2022-03-13T12:17:03.197336Z",
     "shell.execute_reply.started": "2022-03-13T11:15:50.692013Z"
    },
    "papermill": {
     "duration": 0.053896,
     "end_time": "2022-03-13T12:17:03.197499",
     "exception": false,
     "start_time": "2022-03-13T12:17:03.143603",
     "status": "completed"
    },
    "tags": []
   },
   "outputs": [
    {
     "data": {
      "text/plain": [
       "0    5853\n",
       "?    1248\n",
       "1     294\n",
       "Name: news_front_page, dtype: int64"
      ]
     },
     "execution_count": 17,
     "metadata": {},
     "output_type": "execute_result"
    }
   ],
   "source": [
    "df.news_front_page.value_counts()"
   ]
  },
  {
   "cell_type": "code",
   "execution_count": 18,
   "id": "eddfb999",
   "metadata": {
    "execution": {
     "iopub.execute_input": "2022-03-13T12:17:03.289685Z",
     "iopub.status.busy": "2022-03-13T12:17:03.288750Z",
     "iopub.status.idle": "2022-03-13T12:17:03.295120Z",
     "shell.execute_reply": "2022-03-13T12:17:03.295506Z",
     "shell.execute_reply.started": "2022-03-13T11:15:50.700875Z"
    },
    "papermill": {
     "duration": 0.055616,
     "end_time": "2022-03-13T12:17:03.295692",
     "exception": false,
     "start_time": "2022-03-13T12:17:03.240076",
     "status": "completed"
    },
    "tags": []
   },
   "outputs": [
    {
     "data": {
      "text/plain": [
       "?            2342\n",
       "0.85           82\n",
       "0.0784091      40\n",
       "0.849999       12\n",
       "0.535009       10\n",
       "             ... \n",
       "0.776397        1\n",
       "0.351398        1\n",
       "0.642615        1\n",
       "0.640796        1\n",
       "0.617876        1\n",
       "Name: alchemy_category_score, Length: 4806, dtype: int64"
      ]
     },
     "execution_count": 18,
     "metadata": {},
     "output_type": "execute_result"
    }
   ],
   "source": [
    "df.alchemy_category_score.value_counts()"
   ]
  },
  {
   "cell_type": "code",
   "execution_count": 19,
   "id": "e648c9ae",
   "metadata": {
    "execution": {
     "iopub.execute_input": "2022-03-13T12:17:03.386434Z",
     "iopub.status.busy": "2022-03-13T12:17:03.385534Z",
     "iopub.status.idle": "2022-03-13T12:17:03.393395Z",
     "shell.execute_reply": "2022-03-13T12:17:03.393814Z",
     "shell.execute_reply.started": "2022-03-13T11:15:50.720821Z"
    },
    "papermill": {
     "duration": 0.053744,
     "end_time": "2022-03-13T12:17:03.393978",
     "exception": false,
     "start_time": "2022-03-13T12:17:03.340234",
     "status": "completed"
    },
    "tags": []
   },
   "outputs": [
    {
     "data": {
      "text/plain": [
       "1    4552\n",
       "0    2843\n",
       "Name: is_news, dtype: int64"
      ]
     },
     "execution_count": 19,
     "metadata": {},
     "output_type": "execute_result"
    }
   ],
   "source": [
    "df.is_news.value_counts()"
   ]
  },
  {
   "cell_type": "code",
   "execution_count": 20,
   "id": "a442e8e5",
   "metadata": {
    "execution": {
     "iopub.execute_input": "2022-03-13T12:17:03.483094Z",
     "iopub.status.busy": "2022-03-13T12:17:03.482201Z",
     "iopub.status.idle": "2022-03-13T12:17:03.491871Z",
     "shell.execute_reply": "2022-03-13T12:17:03.492268Z",
     "shell.execute_reply.started": "2022-03-13T11:15:50.734018Z"
    },
    "papermill": {
     "duration": 0.055595,
     "end_time": "2022-03-13T12:17:03.492443",
     "exception": false,
     "start_time": "2022-03-13T12:17:03.436848",
     "status": "completed"
    },
    "tags": []
   },
   "outputs": [
    {
     "data": {
      "text/html": [
       "<div>\n",
       "<style scoped>\n",
       "    .dataframe tbody tr th:only-of-type {\n",
       "        vertical-align: middle;\n",
       "    }\n",
       "\n",
       "    .dataframe tbody tr th {\n",
       "        vertical-align: top;\n",
       "    }\n",
       "\n",
       "    .dataframe thead th {\n",
       "        text-align: right;\n",
       "    }\n",
       "</style>\n",
       "<table border=\"1\" class=\"dataframe\">\n",
       "  <thead>\n",
       "    <tr style=\"text-align: right;\">\n",
       "      <th></th>\n",
       "      <th>alchemy_category</th>\n",
       "      <th>news_front_page</th>\n",
       "    </tr>\n",
       "  </thead>\n",
       "  <tbody>\n",
       "    <tr>\n",
       "      <th>0</th>\n",
       "      <td>business</td>\n",
       "      <td>0</td>\n",
       "    </tr>\n",
       "    <tr>\n",
       "      <th>1</th>\n",
       "      <td>recreation</td>\n",
       "      <td>0</td>\n",
       "    </tr>\n",
       "    <tr>\n",
       "      <th>2</th>\n",
       "      <td>health</td>\n",
       "      <td>0</td>\n",
       "    </tr>\n",
       "    <tr>\n",
       "      <th>3</th>\n",
       "      <td>health</td>\n",
       "      <td>0</td>\n",
       "    </tr>\n",
       "    <tr>\n",
       "      <th>4</th>\n",
       "      <td>sports</td>\n",
       "      <td>0</td>\n",
       "    </tr>\n",
       "  </tbody>\n",
       "</table>\n",
       "</div>"
      ],
      "text/plain": [
       "  alchemy_category news_front_page\n",
       "0         business               0\n",
       "1       recreation               0\n",
       "2           health               0\n",
       "3           health               0\n",
       "4           sports               0"
      ]
     },
     "execution_count": 20,
     "metadata": {},
     "output_type": "execute_result"
    }
   ],
   "source": [
    "# using just the columns alchemy_category and news_front_page in the modeling\n",
    "cat_feat = cat_feat[['alchemy_category','news_front_page']]\n",
    "cat_feat.head()"
   ]
  },
  {
   "cell_type": "code",
   "execution_count": 21,
   "id": "99c5860a",
   "metadata": {
    "execution": {
     "iopub.execute_input": "2022-03-13T12:17:03.582843Z",
     "iopub.status.busy": "2022-03-13T12:17:03.581954Z",
     "iopub.status.idle": "2022-03-13T12:17:03.602916Z",
     "shell.execute_reply": "2022-03-13T12:17:03.603723Z",
     "shell.execute_reply.started": "2022-03-13T11:15:50.750493Z"
    },
    "papermill": {
     "duration": 0.068018,
     "end_time": "2022-03-13T12:17:03.603926",
     "exception": false,
     "start_time": "2022-03-13T12:17:03.535908",
     "status": "completed"
    },
    "tags": []
   },
   "outputs": [
    {
     "data": {
      "text/html": [
       "<div>\n",
       "<style scoped>\n",
       "    .dataframe tbody tr th:only-of-type {\n",
       "        vertical-align: middle;\n",
       "    }\n",
       "\n",
       "    .dataframe tbody tr th {\n",
       "        vertical-align: top;\n",
       "    }\n",
       "\n",
       "    .dataframe thead th {\n",
       "        text-align: right;\n",
       "    }\n",
       "</style>\n",
       "<table border=\"1\" class=\"dataframe\">\n",
       "  <thead>\n",
       "    <tr style=\"text-align: right;\">\n",
       "      <th></th>\n",
       "      <th>alchemy_category_?</th>\n",
       "      <th>alchemy_category_arts_entertainment</th>\n",
       "      <th>alchemy_category_business</th>\n",
       "      <th>alchemy_category_computer_internet</th>\n",
       "      <th>alchemy_category_culture_politics</th>\n",
       "      <th>alchemy_category_gaming</th>\n",
       "      <th>alchemy_category_health</th>\n",
       "      <th>alchemy_category_law_crime</th>\n",
       "      <th>alchemy_category_recreation</th>\n",
       "      <th>alchemy_category_religion</th>\n",
       "      <th>alchemy_category_science_technology</th>\n",
       "      <th>alchemy_category_sports</th>\n",
       "      <th>alchemy_category_unknown</th>\n",
       "      <th>alchemy_category_weather</th>\n",
       "      <th>news_front_page_0</th>\n",
       "      <th>news_front_page_1</th>\n",
       "      <th>news_front_page_?</th>\n",
       "    </tr>\n",
       "  </thead>\n",
       "  <tbody>\n",
       "    <tr>\n",
       "      <th>0</th>\n",
       "      <td>0</td>\n",
       "      <td>0</td>\n",
       "      <td>1</td>\n",
       "      <td>0</td>\n",
       "      <td>0</td>\n",
       "      <td>0</td>\n",
       "      <td>0</td>\n",
       "      <td>0</td>\n",
       "      <td>0</td>\n",
       "      <td>0</td>\n",
       "      <td>0</td>\n",
       "      <td>0</td>\n",
       "      <td>0</td>\n",
       "      <td>0</td>\n",
       "      <td>1</td>\n",
       "      <td>0</td>\n",
       "      <td>0</td>\n",
       "    </tr>\n",
       "    <tr>\n",
       "      <th>1</th>\n",
       "      <td>0</td>\n",
       "      <td>0</td>\n",
       "      <td>0</td>\n",
       "      <td>0</td>\n",
       "      <td>0</td>\n",
       "      <td>0</td>\n",
       "      <td>0</td>\n",
       "      <td>0</td>\n",
       "      <td>1</td>\n",
       "      <td>0</td>\n",
       "      <td>0</td>\n",
       "      <td>0</td>\n",
       "      <td>0</td>\n",
       "      <td>0</td>\n",
       "      <td>1</td>\n",
       "      <td>0</td>\n",
       "      <td>0</td>\n",
       "    </tr>\n",
       "    <tr>\n",
       "      <th>2</th>\n",
       "      <td>0</td>\n",
       "      <td>0</td>\n",
       "      <td>0</td>\n",
       "      <td>0</td>\n",
       "      <td>0</td>\n",
       "      <td>0</td>\n",
       "      <td>1</td>\n",
       "      <td>0</td>\n",
       "      <td>0</td>\n",
       "      <td>0</td>\n",
       "      <td>0</td>\n",
       "      <td>0</td>\n",
       "      <td>0</td>\n",
       "      <td>0</td>\n",
       "      <td>1</td>\n",
       "      <td>0</td>\n",
       "      <td>0</td>\n",
       "    </tr>\n",
       "    <tr>\n",
       "      <th>3</th>\n",
       "      <td>0</td>\n",
       "      <td>0</td>\n",
       "      <td>0</td>\n",
       "      <td>0</td>\n",
       "      <td>0</td>\n",
       "      <td>0</td>\n",
       "      <td>1</td>\n",
       "      <td>0</td>\n",
       "      <td>0</td>\n",
       "      <td>0</td>\n",
       "      <td>0</td>\n",
       "      <td>0</td>\n",
       "      <td>0</td>\n",
       "      <td>0</td>\n",
       "      <td>1</td>\n",
       "      <td>0</td>\n",
       "      <td>0</td>\n",
       "    </tr>\n",
       "    <tr>\n",
       "      <th>4</th>\n",
       "      <td>0</td>\n",
       "      <td>0</td>\n",
       "      <td>0</td>\n",
       "      <td>0</td>\n",
       "      <td>0</td>\n",
       "      <td>0</td>\n",
       "      <td>0</td>\n",
       "      <td>0</td>\n",
       "      <td>0</td>\n",
       "      <td>0</td>\n",
       "      <td>0</td>\n",
       "      <td>1</td>\n",
       "      <td>0</td>\n",
       "      <td>0</td>\n",
       "      <td>1</td>\n",
       "      <td>0</td>\n",
       "      <td>0</td>\n",
       "    </tr>\n",
       "    <tr>\n",
       "      <th>...</th>\n",
       "      <td>...</td>\n",
       "      <td>...</td>\n",
       "      <td>...</td>\n",
       "      <td>...</td>\n",
       "      <td>...</td>\n",
       "      <td>...</td>\n",
       "      <td>...</td>\n",
       "      <td>...</td>\n",
       "      <td>...</td>\n",
       "      <td>...</td>\n",
       "      <td>...</td>\n",
       "      <td>...</td>\n",
       "      <td>...</td>\n",
       "      <td>...</td>\n",
       "      <td>...</td>\n",
       "      <td>...</td>\n",
       "      <td>...</td>\n",
       "    </tr>\n",
       "    <tr>\n",
       "      <th>7390</th>\n",
       "      <td>0</td>\n",
       "      <td>0</td>\n",
       "      <td>0</td>\n",
       "      <td>1</td>\n",
       "      <td>0</td>\n",
       "      <td>0</td>\n",
       "      <td>0</td>\n",
       "      <td>0</td>\n",
       "      <td>0</td>\n",
       "      <td>0</td>\n",
       "      <td>0</td>\n",
       "      <td>0</td>\n",
       "      <td>0</td>\n",
       "      <td>0</td>\n",
       "      <td>1</td>\n",
       "      <td>0</td>\n",
       "      <td>0</td>\n",
       "    </tr>\n",
       "    <tr>\n",
       "      <th>7391</th>\n",
       "      <td>0</td>\n",
       "      <td>0</td>\n",
       "      <td>0</td>\n",
       "      <td>0</td>\n",
       "      <td>1</td>\n",
       "      <td>0</td>\n",
       "      <td>0</td>\n",
       "      <td>0</td>\n",
       "      <td>0</td>\n",
       "      <td>0</td>\n",
       "      <td>0</td>\n",
       "      <td>0</td>\n",
       "      <td>0</td>\n",
       "      <td>0</td>\n",
       "      <td>1</td>\n",
       "      <td>0</td>\n",
       "      <td>0</td>\n",
       "    </tr>\n",
       "    <tr>\n",
       "      <th>7392</th>\n",
       "      <td>0</td>\n",
       "      <td>0</td>\n",
       "      <td>0</td>\n",
       "      <td>0</td>\n",
       "      <td>0</td>\n",
       "      <td>0</td>\n",
       "      <td>0</td>\n",
       "      <td>0</td>\n",
       "      <td>1</td>\n",
       "      <td>0</td>\n",
       "      <td>0</td>\n",
       "      <td>0</td>\n",
       "      <td>0</td>\n",
       "      <td>0</td>\n",
       "      <td>1</td>\n",
       "      <td>0</td>\n",
       "      <td>0</td>\n",
       "    </tr>\n",
       "    <tr>\n",
       "      <th>7393</th>\n",
       "      <td>0</td>\n",
       "      <td>1</td>\n",
       "      <td>0</td>\n",
       "      <td>0</td>\n",
       "      <td>0</td>\n",
       "      <td>0</td>\n",
       "      <td>0</td>\n",
       "      <td>0</td>\n",
       "      <td>0</td>\n",
       "      <td>0</td>\n",
       "      <td>0</td>\n",
       "      <td>0</td>\n",
       "      <td>0</td>\n",
       "      <td>0</td>\n",
       "      <td>0</td>\n",
       "      <td>1</td>\n",
       "      <td>0</td>\n",
       "    </tr>\n",
       "    <tr>\n",
       "      <th>7394</th>\n",
       "      <td>1</td>\n",
       "      <td>0</td>\n",
       "      <td>0</td>\n",
       "      <td>0</td>\n",
       "      <td>0</td>\n",
       "      <td>0</td>\n",
       "      <td>0</td>\n",
       "      <td>0</td>\n",
       "      <td>0</td>\n",
       "      <td>0</td>\n",
       "      <td>0</td>\n",
       "      <td>0</td>\n",
       "      <td>0</td>\n",
       "      <td>0</td>\n",
       "      <td>0</td>\n",
       "      <td>0</td>\n",
       "      <td>1</td>\n",
       "    </tr>\n",
       "  </tbody>\n",
       "</table>\n",
       "<p>7395 rows × 17 columns</p>\n",
       "</div>"
      ],
      "text/plain": [
       "      alchemy_category_?  alchemy_category_arts_entertainment  \\\n",
       "0                      0                                    0   \n",
       "1                      0                                    0   \n",
       "2                      0                                    0   \n",
       "3                      0                                    0   \n",
       "4                      0                                    0   \n",
       "...                  ...                                  ...   \n",
       "7390                   0                                    0   \n",
       "7391                   0                                    0   \n",
       "7392                   0                                    0   \n",
       "7393                   0                                    1   \n",
       "7394                   1                                    0   \n",
       "\n",
       "      alchemy_category_business  alchemy_category_computer_internet  \\\n",
       "0                             1                                   0   \n",
       "1                             0                                   0   \n",
       "2                             0                                   0   \n",
       "3                             0                                   0   \n",
       "4                             0                                   0   \n",
       "...                         ...                                 ...   \n",
       "7390                          0                                   1   \n",
       "7391                          0                                   0   \n",
       "7392                          0                                   0   \n",
       "7393                          0                                   0   \n",
       "7394                          0                                   0   \n",
       "\n",
       "      alchemy_category_culture_politics  alchemy_category_gaming  \\\n",
       "0                                     0                        0   \n",
       "1                                     0                        0   \n",
       "2                                     0                        0   \n",
       "3                                     0                        0   \n",
       "4                                     0                        0   \n",
       "...                                 ...                      ...   \n",
       "7390                                  0                        0   \n",
       "7391                                  1                        0   \n",
       "7392                                  0                        0   \n",
       "7393                                  0                        0   \n",
       "7394                                  0                        0   \n",
       "\n",
       "      alchemy_category_health  alchemy_category_law_crime  \\\n",
       "0                           0                           0   \n",
       "1                           0                           0   \n",
       "2                           1                           0   \n",
       "3                           1                           0   \n",
       "4                           0                           0   \n",
       "...                       ...                         ...   \n",
       "7390                        0                           0   \n",
       "7391                        0                           0   \n",
       "7392                        0                           0   \n",
       "7393                        0                           0   \n",
       "7394                        0                           0   \n",
       "\n",
       "      alchemy_category_recreation  alchemy_category_religion  \\\n",
       "0                               0                          0   \n",
       "1                               1                          0   \n",
       "2                               0                          0   \n",
       "3                               0                          0   \n",
       "4                               0                          0   \n",
       "...                           ...                        ...   \n",
       "7390                            0                          0   \n",
       "7391                            0                          0   \n",
       "7392                            1                          0   \n",
       "7393                            0                          0   \n",
       "7394                            0                          0   \n",
       "\n",
       "      alchemy_category_science_technology  alchemy_category_sports  \\\n",
       "0                                       0                        0   \n",
       "1                                       0                        0   \n",
       "2                                       0                        0   \n",
       "3                                       0                        0   \n",
       "4                                       0                        1   \n",
       "...                                   ...                      ...   \n",
       "7390                                    0                        0   \n",
       "7391                                    0                        0   \n",
       "7392                                    0                        0   \n",
       "7393                                    0                        0   \n",
       "7394                                    0                        0   \n",
       "\n",
       "      alchemy_category_unknown  alchemy_category_weather  news_front_page_0  \\\n",
       "0                            0                         0                  1   \n",
       "1                            0                         0                  1   \n",
       "2                            0                         0                  1   \n",
       "3                            0                         0                  1   \n",
       "4                            0                         0                  1   \n",
       "...                        ...                       ...                ...   \n",
       "7390                         0                         0                  1   \n",
       "7391                         0                         0                  1   \n",
       "7392                         0                         0                  1   \n",
       "7393                         0                         0                  0   \n",
       "7394                         0                         0                  0   \n",
       "\n",
       "      news_front_page_1  news_front_page_?  \n",
       "0                     0                  0  \n",
       "1                     0                  0  \n",
       "2                     0                  0  \n",
       "3                     0                  0  \n",
       "4                     0                  0  \n",
       "...                 ...                ...  \n",
       "7390                  0                  0  \n",
       "7391                  0                  0  \n",
       "7392                  0                  0  \n",
       "7393                  1                  0  \n",
       "7394                  0                  1  \n",
       "\n",
       "[7395 rows x 17 columns]"
      ]
     },
     "execution_count": 21,
     "metadata": {},
     "output_type": "execute_result"
    }
   ],
   "source": [
    "# one hot encoding the change the categories features to number\n",
    "pd.get_dummies(cat_feat)"
   ]
  },
  {
   "cell_type": "code",
   "execution_count": 22,
   "id": "51cd7fed",
   "metadata": {
    "execution": {
     "iopub.execute_input": "2022-03-13T12:17:03.700602Z",
     "iopub.status.busy": "2022-03-13T12:17:03.699711Z",
     "iopub.status.idle": "2022-03-13T12:17:03.708489Z",
     "shell.execute_reply": "2022-03-13T12:17:03.709017Z",
     "shell.execute_reply.started": "2022-03-13T11:56:01.015680Z"
    },
    "papermill": {
     "duration": 0.060638,
     "end_time": "2022-03-13T12:17:03.709194",
     "exception": false,
     "start_time": "2022-03-13T12:17:03.648556",
     "status": "completed"
    },
    "tags": []
   },
   "outputs": [
    {
     "data": {
      "text/plain": [
       "Index(['avglinksize', 'commonlinkratio_1', 'commonlinkratio_2',\n",
       "       'commonlinkratio_3', 'commonlinkratio_4', 'compression_ratio',\n",
       "       'embed_ratio', 'frameTagRatio', 'hasDomainLink', 'html_ratio',\n",
       "       'image_ratio', 'is_news', 'lengthyLinkDomain', 'linkwordscore',\n",
       "       'non_markup_alphanum_characters', 'numberOfLinks', 'numwords_in_url',\n",
       "       'parametrizedLinkRatio', 'spelling_errors_ratio', 'alchemy_category_?',\n",
       "       'alchemy_category_arts_entertainment', 'alchemy_category_business',\n",
       "       'alchemy_category_computer_internet',\n",
       "       'alchemy_category_culture_politics', 'alchemy_category_gaming',\n",
       "       'alchemy_category_health', 'alchemy_category_law_crime',\n",
       "       'alchemy_category_recreation', 'alchemy_category_religion',\n",
       "       'alchemy_category_science_technology', 'alchemy_category_sports',\n",
       "       'alchemy_category_unknown', 'alchemy_category_weather',\n",
       "       'news_front_page_0', 'news_front_page_1', 'news_front_page_?'],\n",
       "      dtype='object')"
      ]
     },
     "execution_count": 22,
     "metadata": {},
     "output_type": "execute_result"
    }
   ],
   "source": [
    "# Concatenate the two types of features, categorical and numerical\n",
    "df_f = pd.concat([num_feat,pd.get_dummies(cat_feat)], axis=1)\n",
    "df_f.columns"
   ]
  },
  {
   "cell_type": "markdown",
   "id": "e3bf4368",
   "metadata": {
    "papermill": {
     "duration": 0.045368,
     "end_time": "2022-03-13T12:17:03.800593",
     "exception": false,
     "start_time": "2022-03-13T12:17:03.755225",
     "status": "completed"
    },
    "tags": []
   },
   "source": [
    "# Modeling"
   ]
  },
  {
   "cell_type": "code",
   "execution_count": 23,
   "id": "3e6ea12f",
   "metadata": {
    "execution": {
     "iopub.execute_input": "2022-03-13T12:17:03.912794Z",
     "iopub.status.busy": "2022-03-13T12:17:03.911916Z",
     "iopub.status.idle": "2022-03-13T12:17:04.284850Z",
     "shell.execute_reply": "2022-03-13T12:17:04.284131Z",
     "shell.execute_reply.started": "2022-03-13T11:56:42.737853Z"
    },
    "papermill": {
     "duration": 0.438098,
     "end_time": "2022-03-13T12:17:04.285001",
     "exception": false,
     "start_time": "2022-03-13T12:17:03.846903",
     "status": "completed"
    },
    "tags": []
   },
   "outputs": [],
   "source": [
    "# features pre-processing.\n",
    "\n",
    "from sklearn.pipeline import Pipeline\n",
    "from sklearn.compose import ColumnTransformer\n",
    "from sklearn.preprocessing import OneHotEncoder, StandardScaler\n",
    "from sklearn.impute import SimpleImputer\n",
    "from sklearn.compose import ColumnTransformer\n",
    "\n",
    "features_df = df.drop('label', axis=1)\n",
    "FEATURE_COLUMNS = features_df.columns\n",
    "NUM_FEATURES = features_df.select_dtypes(include=[np.number]).columns\n",
    "CAT_FEATURES = ['alchemy_category', 'news_front_page']\n",
    "\n",
    "numeric_transformer = Pipeline(steps=[\n",
    "    ('imputer', SimpleImputer(missing_values=np.nan, strategy='constant', fill_value=0)),\n",
    "    ('scaler', StandardScaler()),\n",
    "])\n",
    "\n",
    "categorical_transformer = Pipeline(steps=[\n",
    "    ('imputer', SimpleImputer(strategy='constant', fill_value='missing')),\n",
    "    ('one_hot', OneHotEncoder(handle_unknown='ignore')),\n",
    "])\n",
    "\n",
    "preprocessor = ColumnTransformer(\n",
    "  transformers=[\n",
    "      ('num', numeric_transformer, NUM_FEATURES),\n",
    "      ('cat', categorical_transformer, CAT_FEATURES)\n",
    "  ])"
   ]
  },
  {
   "cell_type": "code",
   "execution_count": 24,
   "id": "543bd624",
   "metadata": {
    "execution": {
     "iopub.execute_input": "2022-03-13T12:17:04.388094Z",
     "iopub.status.busy": "2022-03-13T12:17:04.387426Z",
     "iopub.status.idle": "2022-03-13T12:17:04.425335Z",
     "shell.execute_reply": "2022-03-13T12:17:04.424825Z",
     "shell.execute_reply.started": "2022-03-13T11:57:01.871217Z"
    },
    "papermill": {
     "duration": 0.088275,
     "end_time": "2022-03-13T12:17:04.425485",
     "exception": false,
     "start_time": "2022-03-13T12:17:04.337210",
     "status": "completed"
    },
    "tags": []
   },
   "outputs": [
    {
     "data": {
      "text/plain": [
       "(7395, 36)"
      ]
     },
     "execution_count": 24,
     "metadata": {},
     "output_type": "execute_result"
    }
   ],
   "source": [
    "features_df = preprocessor.fit_transform(df.drop('label', axis=1))\n",
    "features_df.shape"
   ]
  },
  {
   "cell_type": "code",
   "execution_count": 25,
   "id": "adb3a5ef",
   "metadata": {
    "execution": {
     "iopub.execute_input": "2022-03-13T12:17:04.523161Z",
     "iopub.status.busy": "2022-03-13T12:17:04.521758Z",
     "iopub.status.idle": "2022-03-13T12:17:04.526882Z",
     "shell.execute_reply": "2022-03-13T12:17:04.526370Z",
     "shell.execute_reply.started": "2022-03-13T11:57:17.035889Z"
    },
    "papermill": {
     "duration": 0.055781,
     "end_time": "2022-03-13T12:17:04.527018",
     "exception": false,
     "start_time": "2022-03-13T12:17:04.471237",
     "status": "completed"
    },
    "tags": []
   },
   "outputs": [
    {
     "data": {
      "text/plain": [
       "(7395,)"
      ]
     },
     "execution_count": 25,
     "metadata": {},
     "output_type": "execute_result"
    }
   ],
   "source": [
    "label = df['label']\n",
    "label.shape"
   ]
  },
  {
   "cell_type": "code",
   "execution_count": 26,
   "id": "4fc63b5d",
   "metadata": {
    "execution": {
     "iopub.execute_input": "2022-03-13T12:17:04.627050Z",
     "iopub.status.busy": "2022-03-13T12:17:04.626385Z",
     "iopub.status.idle": "2022-03-13T12:17:04.634281Z",
     "shell.execute_reply": "2022-03-13T12:17:04.633593Z",
     "shell.execute_reply.started": "2022-03-13T11:15:50.812794Z"
    },
    "papermill": {
     "duration": 0.060688,
     "end_time": "2022-03-13T12:17:04.634423",
     "exception": false,
     "start_time": "2022-03-13T12:17:04.573735",
     "status": "completed"
    },
    "tags": []
   },
   "outputs": [],
   "source": [
    "# split our dataset\n",
    "from sklearn.model_selection import train_test_split\n",
    "x_train,x_test, y_train, y_test = train_test_split(df_f, label, test_size= 0.25)"
   ]
  },
  {
   "cell_type": "code",
   "execution_count": 27,
   "id": "317a6268",
   "metadata": {
    "execution": {
     "iopub.execute_input": "2022-03-13T12:17:04.735552Z",
     "iopub.status.busy": "2022-03-13T12:17:04.734759Z",
     "iopub.status.idle": "2022-03-13T12:17:04.738370Z",
     "shell.execute_reply": "2022-03-13T12:17:04.737810Z",
     "shell.execute_reply.started": "2022-03-13T11:15:50.828295Z"
    },
    "papermill": {
     "duration": 0.054062,
     "end_time": "2022-03-13T12:17:04.738500",
     "exception": false,
     "start_time": "2022-03-13T12:17:04.684438",
     "status": "completed"
    },
    "tags": []
   },
   "outputs": [
    {
     "data": {
      "text/plain": [
       "(5546, 36)"
      ]
     },
     "execution_count": 27,
     "metadata": {},
     "output_type": "execute_result"
    }
   ],
   "source": [
    "x_train.shape"
   ]
  },
  {
   "cell_type": "code",
   "execution_count": 28,
   "id": "2abf73ba",
   "metadata": {
    "execution": {
     "iopub.execute_input": "2022-03-13T12:17:04.839069Z",
     "iopub.status.busy": "2022-03-13T12:17:04.838416Z",
     "iopub.status.idle": "2022-03-13T12:17:04.842258Z",
     "shell.execute_reply": "2022-03-13T12:17:04.841611Z",
     "shell.execute_reply.started": "2022-03-13T11:15:50.838553Z"
    },
    "papermill": {
     "duration": 0.057755,
     "end_time": "2022-03-13T12:17:04.842386",
     "exception": false,
     "start_time": "2022-03-13T12:17:04.784631",
     "status": "completed"
    },
    "tags": []
   },
   "outputs": [
    {
     "data": {
      "text/plain": [
       "(1849, 36)"
      ]
     },
     "execution_count": 28,
     "metadata": {},
     "output_type": "execute_result"
    }
   ],
   "source": [
    "x_test.shape"
   ]
  },
  {
   "cell_type": "code",
   "execution_count": 29,
   "id": "9953fd54",
   "metadata": {
    "execution": {
     "iopub.execute_input": "2022-03-13T12:17:04.942014Z",
     "iopub.status.busy": "2022-03-13T12:17:04.941281Z",
     "iopub.status.idle": "2022-03-13T12:17:04.943759Z",
     "shell.execute_reply": "2022-03-13T12:17:04.943177Z",
     "shell.execute_reply.started": "2022-03-13T11:15:50.850736Z"
    },
    "papermill": {
     "duration": 0.054009,
     "end_time": "2022-03-13T12:17:04.943896",
     "exception": false,
     "start_time": "2022-03-13T12:17:04.889887",
     "status": "completed"
    },
    "tags": []
   },
   "outputs": [],
   "source": [
    "# using Logistic RegressionCV\n",
    "from sklearn.linear_model import LogisticRegressionCV\n",
    "model = LogisticRegressionCV()"
   ]
  },
  {
   "cell_type": "code",
   "execution_count": 30,
   "id": "2ab71916",
   "metadata": {
    "execution": {
     "iopub.execute_input": "2022-03-13T12:17:05.044198Z",
     "iopub.status.busy": "2022-03-13T12:17:05.043522Z",
     "iopub.status.idle": "2022-03-13T12:17:07.008736Z",
     "shell.execute_reply": "2022-03-13T12:17:07.009558Z",
     "shell.execute_reply.started": "2022-03-13T11:15:50.863751Z"
    },
    "papermill": {
     "duration": 2.018584,
     "end_time": "2022-03-13T12:17:07.009851",
     "exception": false,
     "start_time": "2022-03-13T12:17:04.991267",
     "status": "completed"
    },
    "tags": []
   },
   "outputs": [
    {
     "name": "stderr",
     "output_type": "stream",
     "text": [
      "/opt/conda/lib/python3.7/site-packages/sklearn/linear_model/_logistic.py:818: ConvergenceWarning: lbfgs failed to converge (status=1):\n",
      "STOP: TOTAL NO. of ITERATIONS REACHED LIMIT.\n",
      "\n",
      "Increase the number of iterations (max_iter) or scale the data as shown in:\n",
      "    https://scikit-learn.org/stable/modules/preprocessing.html\n",
      "Please also refer to the documentation for alternative solver options:\n",
      "    https://scikit-learn.org/stable/modules/linear_model.html#logistic-regression\n",
      "  extra_warning_msg=_LOGISTIC_SOLVER_CONVERGENCE_MSG,\n",
      "/opt/conda/lib/python3.7/site-packages/sklearn/linear_model/_logistic.py:818: ConvergenceWarning: lbfgs failed to converge (status=1):\n",
      "STOP: TOTAL NO. of ITERATIONS REACHED LIMIT.\n",
      "\n",
      "Increase the number of iterations (max_iter) or scale the data as shown in:\n",
      "    https://scikit-learn.org/stable/modules/preprocessing.html\n",
      "Please also refer to the documentation for alternative solver options:\n",
      "    https://scikit-learn.org/stable/modules/linear_model.html#logistic-regression\n",
      "  extra_warning_msg=_LOGISTIC_SOLVER_CONVERGENCE_MSG,\n"
     ]
    },
    {
     "data": {
      "text/plain": [
       "LogisticRegressionCV()"
      ]
     },
     "execution_count": 30,
     "metadata": {},
     "output_type": "execute_result"
    }
   ],
   "source": [
    "model.fit(x_train, y_train)"
   ]
  },
  {
   "cell_type": "code",
   "execution_count": 31,
   "id": "2809da71",
   "metadata": {
    "execution": {
     "iopub.execute_input": "2022-03-13T12:17:07.175032Z",
     "iopub.status.busy": "2022-03-13T12:17:07.173538Z",
     "iopub.status.idle": "2022-03-13T12:17:07.178423Z",
     "shell.execute_reply": "2022-03-13T12:17:07.179249Z",
     "shell.execute_reply.started": "2022-03-13T11:24:46.602700Z"
    },
    "papermill": {
     "duration": 0.070824,
     "end_time": "2022-03-13T12:17:07.179540",
     "exception": false,
     "start_time": "2022-03-13T12:17:07.108716",
     "status": "completed"
    },
    "tags": []
   },
   "outputs": [
    {
     "data": {
      "text/plain": [
       "0.5838442120447169"
      ]
     },
     "execution_count": 31,
     "metadata": {},
     "output_type": "execute_result"
    }
   ],
   "source": [
    "model.predict(x_train).mean()"
   ]
  },
  {
   "cell_type": "code",
   "execution_count": 32,
   "id": "18149bc8",
   "metadata": {
    "execution": {
     "iopub.execute_input": "2022-03-13T12:17:07.341409Z",
     "iopub.status.busy": "2022-03-13T12:17:07.340710Z",
     "iopub.status.idle": "2022-03-13T12:17:07.343550Z",
     "shell.execute_reply": "2022-03-13T12:17:07.344078Z",
     "shell.execute_reply.started": "2022-03-13T11:24:48.598395Z"
    },
    "papermill": {
     "duration": 0.06328,
     "end_time": "2022-03-13T12:17:07.344249",
     "exception": false,
     "start_time": "2022-03-13T12:17:07.280969",
     "status": "completed"
    },
    "tags": []
   },
   "outputs": [
    {
     "data": {
      "text/plain": [
       "0.5162279120086549"
      ]
     },
     "execution_count": 32,
     "metadata": {},
     "output_type": "execute_result"
    }
   ],
   "source": [
    "y_train.mean()"
   ]
  },
  {
   "cell_type": "code",
   "execution_count": 33,
   "id": "e96c7c61",
   "metadata": {
    "execution": {
     "iopub.execute_input": "2022-03-13T12:17:07.445379Z",
     "iopub.status.busy": "2022-03-13T12:17:07.444752Z",
     "iopub.status.idle": "2022-03-13T12:17:07.451639Z",
     "shell.execute_reply": "2022-03-13T12:17:07.452603Z",
     "shell.execute_reply.started": "2022-03-13T11:25:30.992677Z"
    },
    "papermill": {
     "duration": 0.060693,
     "end_time": "2022-03-13T12:17:07.452924",
     "exception": false,
     "start_time": "2022-03-13T12:17:07.392231",
     "status": "completed"
    },
    "tags": []
   },
   "outputs": [],
   "source": [
    "model_pred = model.predict(x_test)"
   ]
  },
  {
   "cell_type": "code",
   "execution_count": 34,
   "id": "bf614a13",
   "metadata": {
    "execution": {
     "iopub.execute_input": "2022-03-13T12:17:07.612303Z",
     "iopub.status.busy": "2022-03-13T12:17:07.611599Z",
     "iopub.status.idle": "2022-03-13T12:17:07.622288Z",
     "shell.execute_reply": "2022-03-13T12:17:07.622853Z",
     "shell.execute_reply.started": "2022-03-13T11:25:34.810775Z"
    },
    "papermill": {
     "duration": 0.073349,
     "end_time": "2022-03-13T12:17:07.623030",
     "exception": false,
     "start_time": "2022-03-13T12:17:07.549681",
     "status": "completed"
    },
    "tags": []
   },
   "outputs": [
    {
     "name": "stdout",
     "output_type": "stream",
     "text": [
      "              precision    recall  f1-score   support\n",
      "\n",
      "           0       0.67      0.58      0.62       916\n",
      "           1       0.64      0.72      0.68       933\n",
      "\n",
      "    accuracy                           0.65      1849\n",
      "   macro avg       0.65      0.65      0.65      1849\n",
      "weighted avg       0.65      0.65      0.65      1849\n",
      "\n"
     ]
    }
   ],
   "source": [
    "# evaluation\n",
    "from sklearn.metrics import classification_report\n",
    "print(classification_report(y_test, model_pred))"
   ]
  },
  {
   "cell_type": "code",
   "execution_count": 35,
   "id": "0ba12ade",
   "metadata": {
    "execution": {
     "iopub.execute_input": "2022-03-13T12:17:07.729191Z",
     "iopub.status.busy": "2022-03-13T12:17:07.728527Z",
     "iopub.status.idle": "2022-03-13T12:17:07.830988Z",
     "shell.execute_reply": "2022-03-13T12:17:07.831456Z",
     "shell.execute_reply.started": "2022-03-13T11:30:12.703422Z"
    },
    "papermill": {
     "duration": 0.160659,
     "end_time": "2022-03-13T12:17:07.831640",
     "exception": false,
     "start_time": "2022-03-13T12:17:07.670981",
     "status": "completed"
    },
    "tags": []
   },
   "outputs": [],
   "source": [
    "# using random forest classifier\n",
    "from sklearn.ensemble import RandomForestClassifier\n",
    "modelR = RandomForestClassifier()"
   ]
  },
  {
   "cell_type": "code",
   "execution_count": 36,
   "id": "2af70ac6",
   "metadata": {
    "execution": {
     "iopub.execute_input": "2022-03-13T12:17:07.939498Z",
     "iopub.status.busy": "2022-03-13T12:17:07.938865Z",
     "iopub.status.idle": "2022-03-13T12:17:09.477561Z",
     "shell.execute_reply": "2022-03-13T12:17:09.476989Z",
     "shell.execute_reply.started": "2022-03-13T11:30:31.576179Z"
    },
    "papermill": {
     "duration": 1.5945,
     "end_time": "2022-03-13T12:17:09.477726",
     "exception": false,
     "start_time": "2022-03-13T12:17:07.883226",
     "status": "completed"
    },
    "tags": []
   },
   "outputs": [
    {
     "data": {
      "text/plain": [
       "RandomForestClassifier()"
      ]
     },
     "execution_count": 36,
     "metadata": {},
     "output_type": "execute_result"
    }
   ],
   "source": [
    "modelR.fit(x_train, y_train)"
   ]
  },
  {
   "cell_type": "code",
   "execution_count": 37,
   "id": "7ff3daa8",
   "metadata": {
    "execution": {
     "iopub.execute_input": "2022-03-13T12:17:09.580811Z",
     "iopub.status.busy": "2022-03-13T12:17:09.580190Z",
     "iopub.status.idle": "2022-03-13T12:17:09.636522Z",
     "shell.execute_reply": "2022-03-13T12:17:09.635980Z",
     "shell.execute_reply.started": "2022-03-13T11:31:01.404684Z"
    },
    "papermill": {
     "duration": 0.110174,
     "end_time": "2022-03-13T12:17:09.636728",
     "exception": false,
     "start_time": "2022-03-13T12:17:09.526554",
     "status": "completed"
    },
    "tags": []
   },
   "outputs": [],
   "source": [
    "modelR_predictions = modelR.predict(x_test)"
   ]
  },
  {
   "cell_type": "code",
   "execution_count": 38,
   "id": "1f6315ac",
   "metadata": {
    "execution": {
     "iopub.execute_input": "2022-03-13T12:17:09.739220Z",
     "iopub.status.busy": "2022-03-13T12:17:09.738571Z",
     "iopub.status.idle": "2022-03-13T12:17:09.749534Z",
     "shell.execute_reply": "2022-03-13T12:17:09.749014Z",
     "shell.execute_reply.started": "2022-03-13T11:31:19.968702Z"
    },
    "papermill": {
     "duration": 0.063443,
     "end_time": "2022-03-13T12:17:09.749694",
     "exception": false,
     "start_time": "2022-03-13T12:17:09.686251",
     "status": "completed"
    },
    "tags": []
   },
   "outputs": [
    {
     "name": "stdout",
     "output_type": "stream",
     "text": [
      "              precision    recall  f1-score   support\n",
      "\n",
      "           0       0.70      0.71      0.71       916\n",
      "           1       0.71      0.71      0.71       933\n",
      "\n",
      "    accuracy                           0.71      1849\n",
      "   macro avg       0.71      0.71      0.71      1849\n",
      "weighted avg       0.71      0.71      0.71      1849\n",
      "\n"
     ]
    }
   ],
   "source": [
    "# evaluation\n",
    "print(classification_report(y_test, modelR_predictions))"
   ]
  },
  {
   "cell_type": "markdown",
   "id": "6dd29a1a",
   "metadata": {
    "papermill": {
     "duration": 0.047782,
     "end_time": "2022-03-13T12:17:09.846824",
     "exception": false,
     "start_time": "2022-03-13T12:17:09.799042",
     "status": "completed"
    },
    "tags": []
   },
   "source": [
    "# submission"
   ]
  },
  {
   "cell_type": "code",
   "execution_count": 39,
   "id": "35996093",
   "metadata": {
    "execution": {
     "iopub.execute_input": "2022-03-13T12:17:09.949446Z",
     "iopub.status.busy": "2022-03-13T12:17:09.947317Z",
     "iopub.status.idle": "2022-03-13T12:17:10.173051Z",
     "shell.execute_reply": "2022-03-13T12:17:10.172354Z",
     "shell.execute_reply.started": "2022-03-13T11:58:02.763184Z"
    },
    "papermill": {
     "duration": 0.278267,
     "end_time": "2022-03-13T12:17:10.173193",
     "exception": false,
     "start_time": "2022-03-13T12:17:09.894926",
     "status": "completed"
    },
    "tags": []
   },
   "outputs": [
    {
     "name": "stderr",
     "output_type": "stream",
     "text": [
      "/opt/conda/lib/python3.7/site-packages/ipykernel_launcher.py:2: FutureWarning: The default value of regex will change from True to False in a future version. In addition, single character regular expressions will *not* be treated as literal strings when regex=True.\n",
      "  \n"
     ]
    }
   ],
   "source": [
    "test_df = pd.read_csv('../input/stumbleupon/test.tsv', sep='\\t')\n",
    "test_df['is_news'] = test_df['is_news'].str.replace('?', '0').astype(int)"
   ]
  },
  {
   "cell_type": "code",
   "execution_count": 40,
   "id": "a2289cad",
   "metadata": {
    "execution": {
     "iopub.execute_input": "2022-03-13T12:17:10.277516Z",
     "iopub.status.busy": "2022-03-13T12:17:10.276516Z",
     "iopub.status.idle": "2022-03-13T12:17:10.375027Z",
     "shell.execute_reply": "2022-03-13T12:17:10.374372Z",
     "shell.execute_reply.started": "2022-03-13T11:58:58.574732Z"
    },
    "papermill": {
     "duration": 0.150994,
     "end_time": "2022-03-13T12:17:10.375175",
     "exception": false,
     "start_time": "2022-03-13T12:17:10.224181",
     "status": "completed"
    },
    "tags": []
   },
   "outputs": [
    {
     "name": "stderr",
     "output_type": "stream",
     "text": [
      "/opt/conda/lib/python3.7/site-packages/sklearn/base.py:446: UserWarning: X does not have valid feature names, but RandomForestClassifier was fitted with feature names\n",
      "  \"X does not have valid feature names, but\"\n"
     ]
    }
   ],
   "source": [
    "test_features = preprocessor.transform(test_df[df.drop('label', axis=1).columns])\n",
    "predictions = modelR.predict(test_features)"
   ]
  },
  {
   "cell_type": "code",
   "execution_count": 41,
   "id": "74ffd05b",
   "metadata": {
    "execution": {
     "iopub.execute_input": "2022-03-13T12:17:10.482439Z",
     "iopub.status.busy": "2022-03-13T12:17:10.481853Z",
     "iopub.status.idle": "2022-03-13T12:17:10.484146Z",
     "shell.execute_reply": "2022-03-13T12:17:10.484588Z",
     "shell.execute_reply.started": "2022-03-13T11:59:04.035914Z"
    },
    "papermill": {
     "duration": 0.059936,
     "end_time": "2022-03-13T12:17:10.484764",
     "exception": false,
     "start_time": "2022-03-13T12:17:10.424828",
     "status": "completed"
    },
    "tags": []
   },
   "outputs": [
    {
     "data": {
      "text/html": [
       "<div>\n",
       "<style scoped>\n",
       "    .dataframe tbody tr th:only-of-type {\n",
       "        vertical-align: middle;\n",
       "    }\n",
       "\n",
       "    .dataframe tbody tr th {\n",
       "        vertical-align: top;\n",
       "    }\n",
       "\n",
       "    .dataframe thead th {\n",
       "        text-align: right;\n",
       "    }\n",
       "</style>\n",
       "<table border=\"1\" class=\"dataframe\">\n",
       "  <thead>\n",
       "    <tr style=\"text-align: right;\">\n",
       "      <th></th>\n",
       "      <th>urlid</th>\n",
       "      <th>label</th>\n",
       "    </tr>\n",
       "  </thead>\n",
       "  <tbody>\n",
       "    <tr>\n",
       "      <th>0</th>\n",
       "      <td>5865</td>\n",
       "      <td>1</td>\n",
       "    </tr>\n",
       "    <tr>\n",
       "      <th>1</th>\n",
       "      <td>782</td>\n",
       "      <td>0</td>\n",
       "    </tr>\n",
       "    <tr>\n",
       "      <th>2</th>\n",
       "      <td>6962</td>\n",
       "      <td>0</td>\n",
       "    </tr>\n",
       "    <tr>\n",
       "      <th>3</th>\n",
       "      <td>7640</td>\n",
       "      <td>0</td>\n",
       "    </tr>\n",
       "    <tr>\n",
       "      <th>4</th>\n",
       "      <td>3589</td>\n",
       "      <td>0</td>\n",
       "    </tr>\n",
       "  </tbody>\n",
       "</table>\n",
       "</div>"
      ],
      "text/plain": [
       "   urlid  label\n",
       "0   5865      1\n",
       "1    782      0\n",
       "2   6962      0\n",
       "3   7640      0\n",
       "4   3589      0"
      ]
     },
     "execution_count": 41,
     "metadata": {},
     "output_type": "execute_result"
    }
   ],
   "source": [
    "sub_df = pd.DataFrame({'urlid' : test_df.urlid, 'label': predictions})\n",
    "sub_df.head()"
   ]
  },
  {
   "cell_type": "code",
   "execution_count": 42,
   "id": "746ad156",
   "metadata": {
    "execution": {
     "iopub.execute_input": "2022-03-13T12:17:10.586583Z",
     "iopub.status.busy": "2022-03-13T12:17:10.586013Z",
     "iopub.status.idle": "2022-03-13T12:17:10.595578Z",
     "shell.execute_reply": "2022-03-13T12:17:10.596096Z",
     "shell.execute_reply.started": "2022-03-13T11:59:28.375125Z"
    },
    "papermill": {
     "duration": 0.06216,
     "end_time": "2022-03-13T12:17:10.596280",
     "exception": false,
     "start_time": "2022-03-13T12:17:10.534120",
     "status": "completed"
    },
    "tags": []
   },
   "outputs": [],
   "source": [
    "sub_df.to_csv('submission.csv', index=False)"
   ]
  }
 ],
 "metadata": {
  "kernelspec": {
   "display_name": "Python 3",
   "language": "python",
   "name": "python3"
  },
  "language_info": {
   "codemirror_mode": {
    "name": "ipython",
    "version": 3
   },
   "file_extension": ".py",
   "mimetype": "text/x-python",
   "name": "python",
   "nbconvert_exporter": "python",
   "pygments_lexer": "ipython3",
   "version": "3.7.12"
  },
  "papermill": {
   "default_parameters": {},
   "duration": 24.054948,
   "end_time": "2022-03-13T12:17:11.457866",
   "environment_variables": {},
   "exception": null,
   "input_path": "__notebook__.ipynb",
   "output_path": "__notebook__.ipynb",
   "parameters": {},
   "start_time": "2022-03-13T12:16:47.402918",
   "version": "2.3.3"
  }
 },
 "nbformat": 4,
 "nbformat_minor": 5
}
